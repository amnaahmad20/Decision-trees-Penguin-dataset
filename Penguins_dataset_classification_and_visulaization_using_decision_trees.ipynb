{
  "nbformat": 4,
  "nbformat_minor": 0,
  "metadata": {
    "colab": {
      "provenance": [],
      "authorship_tag": "ABX9TyN8lwHp637eGCottu1uz5k9",
      "include_colab_link": true
    },
    "kernelspec": {
      "name": "python3",
      "display_name": "Python 3"
    },
    "language_info": {
      "name": "python"
    }
  },
  "cells": [
    {
      "cell_type": "markdown",
      "metadata": {
        "id": "view-in-github",
        "colab_type": "text"
      },
      "source": [
        "<a href=\"https://colab.research.google.com/github/amnaahmad20/Decision-trees-Penguin-dataset/blob/main/Penguins_dataset_classification_and_visulaization_using_decision_trees.ipynb\" target=\"_parent\"><img src=\"https://colab.research.google.com/assets/colab-badge.svg\" alt=\"Open In Colab\"/></a>"
      ]
    },
    {
      "cell_type": "code",
      "execution_count": null,
      "metadata": {
        "id": "gEPaREZwuPLa"
      },
      "outputs": [],
      "source": []
    },
    {
      "cell_type": "markdown",
      "source": [
        "# **penguins dataset clasification**"
      ],
      "metadata": {
        "id": "TpNXBgfPhIl6"
      }
    },
    {
      "cell_type": "markdown",
      "metadata": {
        "papermill": {
          "duration": 0.023267,
          "end_time": "2020-12-06T07:07:23.227544",
          "exception": false,
          "start_time": "2020-12-06T07:07:23.204277",
          "status": "completed"
        },
        "tags": [],
        "id": "P9rpOz4_CGtv"
      },
      "source": [
        "## Workings Of Decision Tree\n",
        "* At the root node decision tree selects feature to split the data in two major categories.\n",
        "* So at the end of root node we have two decision rules and two sub trees\n",
        "* Data will again be divided in two categories in each sub tree\n",
        "* This process will continue until every training example is grouped together.\n",
        "* So at the end of decision tree we end up with leaf node. Which represent the class or a continuous value that we are trying predict\n",
        "\n",
        "## Criteria To Split The Data\n",
        "The objective of decision tree is to split the data in such a way that at the end we have different groups of data which has more similarity and less randomness/impurity. In order to achieve this, every split in decision tree must reduce the randomness.\n",
        "Decision tree uses 'entropy' or 'gini' selection criteria to split the data.\n",
        "Note: We are going to use sklearn library to test classification. 'entropy' or 'gini' are selection criteria for classifier.\n",
        "\n",
        "```\n",
        "    Information Gain= Entropy(Parent Decision Node)–(Average Entropy(Child Nodes))\n",
        "```\n"
      ]
    },
    {
      "cell_type": "markdown",
      "metadata": {
        "papermill": {
          "duration": 0.024781,
          "end_time": "2020-12-06T07:07:23.276362",
          "exception": false,
          "start_time": "2020-12-06T07:07:23.251581",
          "status": "completed"
        },
        "tags": [],
        "id": "RVj7eNjTCGtx"
      },
      "source": [
        "# Advantages Of Decision Tree\n",
        "* Simple to understand and to interpret. Trees can be visualized.\n",
        "* Requires little data preparation. Other techniques often require data normalization, dummy variables need to be created and blank values to be removed. Note however that this module does not support missing values.\n",
        "* Able to handle both numerical and categorical data.\n",
        "* Able to handle multi-output problems.\n",
        "* Uses a white box model. Results are easy to interpret.\n",
        "* Possible to validate a model using statistical tests. That makes it possible to account for the reliability of the model."
      ]
    },
    {
      "cell_type": "markdown",
      "metadata": {
        "papermill": {
          "duration": 0.023346,
          "end_time": "2020-12-06T07:07:23.323807",
          "exception": false,
          "start_time": "2020-12-06T07:07:23.300461",
          "status": "completed"
        },
        "tags": [],
        "id": "YtOG9hkxCGtx"
      },
      "source": [
        "# Disadvantages Of Decision Tree\n",
        "* Decision-tree learners can create over-complex trees that do not generalize the data well. This is called overfitting. Mechanisms such as pruning, setting the minimum number of samples required at a leaf node or setting the maximum depth of the tree are necessary to avoid this problem.\n",
        "* Decision trees can be unstable because small variations in the data might result in a completely different tree being generated. This problem is mitigated by using decision trees within an ensemble.\n",
        "* Decision tree learners create biased trees if some classes dominate. It is therefore recommended to balance the dataset prior to fitting with the decision tree."
      ]
    },
    {
      "cell_type": "markdown",
      "metadata": {
        "papermill": {
          "duration": 0.023346,
          "end_time": "2020-12-06T07:07:23.370815",
          "exception": false,
          "start_time": "2020-12-06T07:07:23.347469",
          "status": "completed"
        },
        "tags": [],
        "id": "y2uVtl09CGty"
      },
      "source": [
        "# Classification Problem Example\n",
        "For classification exercise we are going to use penguins dataset\n"
      ]
    },
    {
      "cell_type": "markdown",
      "metadata": {
        "papermill": {
          "duration": 0.024449,
          "end_time": "2020-12-06T07:07:23.419835",
          "exception": false,
          "start_time": "2020-12-06T07:07:23.395386",
          "status": "completed"
        },
        "tags": [],
        "id": "rzxMIb-bCGtz"
      },
      "source": [
        "## Import Libraries"
      ]
    },
    {
      "cell_type": "code",
      "execution_count": 1,
      "metadata": {
        "execution": {
          "iopub.execute_input": "2020-12-06T07:07:23.477652Z",
          "iopub.status.busy": "2020-12-06T07:07:23.476798Z",
          "iopub.status.idle": "2020-12-06T07:07:24.878267Z",
          "shell.execute_reply": "2020-12-06T07:07:24.877658Z"
        },
        "papermill": {
          "duration": 1.432026,
          "end_time": "2020-12-06T07:07:24.878386",
          "exception": false,
          "start_time": "2020-12-06T07:07:23.446360",
          "status": "completed"
        },
        "tags": [],
        "id": "q1q8tWaYCGt0"
      },
      "outputs": [],
      "source": [
        "import pandas as pd #for data manipulation and analysis \n",
        "import numpy as np #for manipulating arrays\n",
        "from sklearn import datasets #get iris dataset\n",
        "from sklearn import model_selection #Split arrays into random train and test subsets\n",
        "from sklearn import tree #for decision tree \n",
        "import matplotlib.pyplot as plt #for plotting graph\n",
        "#to make matplotlib plots appear directly below the cell in which the plot function is called\n",
        "%matplotlib inline \n",
        "import graphviz #to make decision tree"
      ]
    },
    {
      "cell_type": "markdown",
      "metadata": {
        "papermill": {
          "duration": 0.023761,
          "end_time": "2020-12-06T07:07:24.926480",
          "exception": false,
          "start_time": "2020-12-06T07:07:24.902719",
          "status": "completed"
        },
        "tags": [],
        "id": "G8Twwg3mCGt2"
      },
      "source": [
        "## Load The Data"
      ]
    },
    {
      "cell_type": "code",
      "source": [
        "df = pd.read_csv(\"/content/penguins.csv.xls\").dropna().drop(columns=\"Unnamed: 0\")\n",
        "df.head()"
      ],
      "metadata": {
        "id": "TwrpSNHvTDKA",
        "colab": {
          "base_uri": "https://localhost:8080/",
          "height": 204
        },
        "outputId": "e42d1877-7faa-4635-c6bf-58c3f7e1ea6f"
      },
      "execution_count": 2,
      "outputs": [
        {
          "output_type": "execute_result",
          "data": {
            "text/plain": [
              "  species     island  bill_length_mm  bill_depth_mm  flipper_length_mm  \\\n",
              "0  Adelie  Torgersen            39.1           18.7              181.0   \n",
              "1  Adelie  Torgersen            39.5           17.4              186.0   \n",
              "2  Adelie  Torgersen            40.3           18.0              195.0   \n",
              "4  Adelie  Torgersen            36.7           19.3              193.0   \n",
              "5  Adelie  Torgersen            39.3           20.6              190.0   \n",
              "\n",
              "   body_mass_g     sex  year  \n",
              "0       3750.0    male  2007  \n",
              "1       3800.0  female  2007  \n",
              "2       3250.0  female  2007  \n",
              "4       3450.0  female  2007  \n",
              "5       3650.0    male  2007  "
            ],
            "text/html": [
              "\n",
              "  <div id=\"df-dd786463-48a1-4084-a904-2e2251abb1ba\">\n",
              "    <div class=\"colab-df-container\">\n",
              "      <div>\n",
              "<style scoped>\n",
              "    .dataframe tbody tr th:only-of-type {\n",
              "        vertical-align: middle;\n",
              "    }\n",
              "\n",
              "    .dataframe tbody tr th {\n",
              "        vertical-align: top;\n",
              "    }\n",
              "\n",
              "    .dataframe thead th {\n",
              "        text-align: right;\n",
              "    }\n",
              "</style>\n",
              "<table border=\"1\" class=\"dataframe\">\n",
              "  <thead>\n",
              "    <tr style=\"text-align: right;\">\n",
              "      <th></th>\n",
              "      <th>species</th>\n",
              "      <th>island</th>\n",
              "      <th>bill_length_mm</th>\n",
              "      <th>bill_depth_mm</th>\n",
              "      <th>flipper_length_mm</th>\n",
              "      <th>body_mass_g</th>\n",
              "      <th>sex</th>\n",
              "      <th>year</th>\n",
              "    </tr>\n",
              "  </thead>\n",
              "  <tbody>\n",
              "    <tr>\n",
              "      <th>0</th>\n",
              "      <td>Adelie</td>\n",
              "      <td>Torgersen</td>\n",
              "      <td>39.1</td>\n",
              "      <td>18.7</td>\n",
              "      <td>181.0</td>\n",
              "      <td>3750.0</td>\n",
              "      <td>male</td>\n",
              "      <td>2007</td>\n",
              "    </tr>\n",
              "    <tr>\n",
              "      <th>1</th>\n",
              "      <td>Adelie</td>\n",
              "      <td>Torgersen</td>\n",
              "      <td>39.5</td>\n",
              "      <td>17.4</td>\n",
              "      <td>186.0</td>\n",
              "      <td>3800.0</td>\n",
              "      <td>female</td>\n",
              "      <td>2007</td>\n",
              "    </tr>\n",
              "    <tr>\n",
              "      <th>2</th>\n",
              "      <td>Adelie</td>\n",
              "      <td>Torgersen</td>\n",
              "      <td>40.3</td>\n",
              "      <td>18.0</td>\n",
              "      <td>195.0</td>\n",
              "      <td>3250.0</td>\n",
              "      <td>female</td>\n",
              "      <td>2007</td>\n",
              "    </tr>\n",
              "    <tr>\n",
              "      <th>4</th>\n",
              "      <td>Adelie</td>\n",
              "      <td>Torgersen</td>\n",
              "      <td>36.7</td>\n",
              "      <td>19.3</td>\n",
              "      <td>193.0</td>\n",
              "      <td>3450.0</td>\n",
              "      <td>female</td>\n",
              "      <td>2007</td>\n",
              "    </tr>\n",
              "    <tr>\n",
              "      <th>5</th>\n",
              "      <td>Adelie</td>\n",
              "      <td>Torgersen</td>\n",
              "      <td>39.3</td>\n",
              "      <td>20.6</td>\n",
              "      <td>190.0</td>\n",
              "      <td>3650.0</td>\n",
              "      <td>male</td>\n",
              "      <td>2007</td>\n",
              "    </tr>\n",
              "  </tbody>\n",
              "</table>\n",
              "</div>\n",
              "      <button class=\"colab-df-convert\" onclick=\"convertToInteractive('df-dd786463-48a1-4084-a904-2e2251abb1ba')\"\n",
              "              title=\"Convert this dataframe to an interactive table.\"\n",
              "              style=\"display:none;\">\n",
              "        \n",
              "  <svg xmlns=\"http://www.w3.org/2000/svg\" height=\"24px\"viewBox=\"0 0 24 24\"\n",
              "       width=\"24px\">\n",
              "    <path d=\"M0 0h24v24H0V0z\" fill=\"none\"/>\n",
              "    <path d=\"M18.56 5.44l.94 2.06.94-2.06 2.06-.94-2.06-.94-.94-2.06-.94 2.06-2.06.94zm-11 1L8.5 8.5l.94-2.06 2.06-.94-2.06-.94L8.5 2.5l-.94 2.06-2.06.94zm10 10l.94 2.06.94-2.06 2.06-.94-2.06-.94-.94-2.06-.94 2.06-2.06.94z\"/><path d=\"M17.41 7.96l-1.37-1.37c-.4-.4-.92-.59-1.43-.59-.52 0-1.04.2-1.43.59L10.3 9.45l-7.72 7.72c-.78.78-.78 2.05 0 2.83L4 21.41c.39.39.9.59 1.41.59.51 0 1.02-.2 1.41-.59l7.78-7.78 2.81-2.81c.8-.78.8-2.07 0-2.86zM5.41 20L4 18.59l7.72-7.72 1.47 1.35L5.41 20z\"/>\n",
              "  </svg>\n",
              "      </button>\n",
              "      \n",
              "  <style>\n",
              "    .colab-df-container {\n",
              "      display:flex;\n",
              "      flex-wrap:wrap;\n",
              "      gap: 12px;\n",
              "    }\n",
              "\n",
              "    .colab-df-convert {\n",
              "      background-color: #E8F0FE;\n",
              "      border: none;\n",
              "      border-radius: 50%;\n",
              "      cursor: pointer;\n",
              "      display: none;\n",
              "      fill: #1967D2;\n",
              "      height: 32px;\n",
              "      padding: 0 0 0 0;\n",
              "      width: 32px;\n",
              "    }\n",
              "\n",
              "    .colab-df-convert:hover {\n",
              "      background-color: #E2EBFA;\n",
              "      box-shadow: 0px 1px 2px rgba(60, 64, 67, 0.3), 0px 1px 3px 1px rgba(60, 64, 67, 0.15);\n",
              "      fill: #174EA6;\n",
              "    }\n",
              "\n",
              "    [theme=dark] .colab-df-convert {\n",
              "      background-color: #3B4455;\n",
              "      fill: #D2E3FC;\n",
              "    }\n",
              "\n",
              "    [theme=dark] .colab-df-convert:hover {\n",
              "      background-color: #434B5C;\n",
              "      box-shadow: 0px 1px 3px 1px rgba(0, 0, 0, 0.15);\n",
              "      filter: drop-shadow(0px 1px 2px rgba(0, 0, 0, 0.3));\n",
              "      fill: #FFFFFF;\n",
              "    }\n",
              "  </style>\n",
              "\n",
              "      <script>\n",
              "        const buttonEl =\n",
              "          document.querySelector('#df-dd786463-48a1-4084-a904-2e2251abb1ba button.colab-df-convert');\n",
              "        buttonEl.style.display =\n",
              "          google.colab.kernel.accessAllowed ? 'block' : 'none';\n",
              "\n",
              "        async function convertToInteractive(key) {\n",
              "          const element = document.querySelector('#df-dd786463-48a1-4084-a904-2e2251abb1ba');\n",
              "          const dataTable =\n",
              "            await google.colab.kernel.invokeFunction('convertToInteractive',\n",
              "                                                     [key], {});\n",
              "          if (!dataTable) return;\n",
              "\n",
              "          const docLinkHtml = 'Like what you see? Visit the ' +\n",
              "            '<a target=\"_blank\" href=https://colab.research.google.com/notebooks/data_table.ipynb>data table notebook</a>'\n",
              "            + ' to learn more about interactive tables.';\n",
              "          element.innerHTML = '';\n",
              "          dataTable['output_type'] = 'display_data';\n",
              "          await google.colab.output.renderOutput(dataTable, element);\n",
              "          const docLink = document.createElement('div');\n",
              "          docLink.innerHTML = docLinkHtml;\n",
              "          element.appendChild(docLink);\n",
              "        }\n",
              "      </script>\n",
              "    </div>\n",
              "  </div>\n",
              "  "
            ]
          },
          "metadata": {},
          "execution_count": 2
        }
      ]
    },
    {
      "cell_type": "code",
      "source": [
        "#Print the shape of the data using the shape attribute\n",
        "#printing data frame to check the data\n",
        "print(df)\n",
        "\n",
        "# using dataframe.shape function printing the rows and columns of the iris dataset\n",
        "print(\"Shape of the data frame:\")\n",
        "print(df.shape)"
      ],
      "metadata": {
        "id": "qJ7MnBA9VRPY",
        "colab": {
          "base_uri": "https://localhost:8080/"
        },
        "outputId": "12efb2ae-f97c-45d2-ec5b-8ebfacb6710d"
      },
      "execution_count": 3,
      "outputs": [
        {
          "output_type": "stream",
          "name": "stdout",
          "text": [
            "       species     island  bill_length_mm  bill_depth_mm  flipper_length_mm  \\\n",
            "0       Adelie  Torgersen            39.1           18.7              181.0   \n",
            "1       Adelie  Torgersen            39.5           17.4              186.0   \n",
            "2       Adelie  Torgersen            40.3           18.0              195.0   \n",
            "4       Adelie  Torgersen            36.7           19.3              193.0   \n",
            "5       Adelie  Torgersen            39.3           20.6              190.0   \n",
            "..         ...        ...             ...            ...                ...   \n",
            "339  Chinstrap      Dream            55.8           19.8              207.0   \n",
            "340  Chinstrap      Dream            43.5           18.1              202.0   \n",
            "341  Chinstrap      Dream            49.6           18.2              193.0   \n",
            "342  Chinstrap      Dream            50.8           19.0              210.0   \n",
            "343  Chinstrap      Dream            50.2           18.7              198.0   \n",
            "\n",
            "     body_mass_g     sex  year  \n",
            "0         3750.0    male  2007  \n",
            "1         3800.0  female  2007  \n",
            "2         3250.0  female  2007  \n",
            "4         3450.0  female  2007  \n",
            "5         3650.0    male  2007  \n",
            "..           ...     ...   ...  \n",
            "339       4000.0    male  2009  \n",
            "340       3400.0  female  2009  \n",
            "341       3775.0    male  2009  \n",
            "342       4100.0    male  2009  \n",
            "343       3775.0  female  2009  \n",
            "\n",
            "[333 rows x 8 columns]\n",
            "Shape of the data frame:\n",
            "(333, 8)\n"
          ]
        }
      ]
    },
    {
      "cell_type": "markdown",
      "source": [
        "### View summary of dataset"
      ],
      "metadata": {
        "id": "5TUaScw6SFPn"
      }
    },
    {
      "cell_type": "code",
      "source": [
        "#Print the overall summary of the dataset using pandas info method\n",
        "\n",
        "df.info()"
      ],
      "metadata": {
        "id": "cN4fZqSULom3",
        "colab": {
          "base_uri": "https://localhost:8080/"
        },
        "outputId": "a9d80b4c-304b-4e44-dc48-3212206e6318"
      },
      "execution_count": 5,
      "outputs": [
        {
          "output_type": "stream",
          "name": "stdout",
          "text": [
            "<class 'pandas.core.frame.DataFrame'>\n",
            "Int64Index: 333 entries, 0 to 343\n",
            "Data columns (total 8 columns):\n",
            " #   Column             Non-Null Count  Dtype  \n",
            "---  ------             --------------  -----  \n",
            " 0   species            333 non-null    object \n",
            " 1   island             333 non-null    object \n",
            " 2   bill_length_mm     333 non-null    float64\n",
            " 3   bill_depth_mm      333 non-null    float64\n",
            " 4   flipper_length_mm  333 non-null    float64\n",
            " 5   body_mass_g        333 non-null    float64\n",
            " 6   sex                333 non-null    object \n",
            " 7   year               333 non-null    int64  \n",
            "dtypes: float64(4), int64(1), object(3)\n",
            "memory usage: 23.4+ KB\n"
          ]
        }
      ]
    },
    {
      "cell_type": "code",
      "source": [
        "##check the distribution of species in the data using panadas value_count method. \n",
        "\n",
        "df.value_counts(ascending = True)"
      ],
      "metadata": {
        "id": "WKTQXmRNR50w",
        "colab": {
          "base_uri": "https://localhost:8080/"
        },
        "outputId": "f49f407c-7b80-4c17-cdd6-a591a1681d64"
      },
      "execution_count": 6,
      "outputs": [
        {
          "output_type": "execute_result",
          "data": {
            "text/plain": [
              "species  island     bill_length_mm  bill_depth_mm  flipper_length_mm  body_mass_g  sex     year\n",
              "Adelie   Biscoe     34.5            18.1           187.0              2900.0       female  2008    1\n",
              "Gentoo   Biscoe     43.5            14.2           220.0              4700.0       female  2008    1\n",
              "                    43.4            14.4           218.0              4600.0       female  2009    1\n",
              "                    43.3            14.0           208.0              4575.0       female  2009    1\n",
              "                                    13.4           209.0              4400.0       female  2007    1\n",
              "                                                                                                  ..\n",
              "Adelie   Torgersen  35.9            16.6           190.0              3050.0       female  2008    1\n",
              "                    35.7            17.0           189.0              3350.0       female  2009    1\n",
              "                    35.5            17.5           190.0              3700.0       female  2008    1\n",
              "                    35.1            19.4           193.0              4200.0       male    2008    1\n",
              "Gentoo   Biscoe     59.6            17.0           230.0              6050.0       male    2007    1\n",
              "Length: 333, dtype: int64"
            ]
          },
          "metadata": {},
          "execution_count": 6
        }
      ]
    },
    {
      "cell_type": "code",
      "source": [
        "#Check whether the data contains any missing vakues or not, by using the panadas dataframe isnull method. \n",
        "# displaying the total num of null values in the dataset\n",
        "df.isnull().values.any()\n",
        "\n",
        "#displaying sum of null values\n",
        "df.isnull().sum()"
      ],
      "metadata": {
        "id": "Fb-vb8sRXCdA",
        "colab": {
          "base_uri": "https://localhost:8080/"
        },
        "outputId": "1ca9b941-f7e8-4761-e8fd-297dff50a265"
      },
      "execution_count": 7,
      "outputs": [
        {
          "output_type": "execute_result",
          "data": {
            "text/plain": [
              "species              0\n",
              "island               0\n",
              "bill_length_mm       0\n",
              "bill_depth_mm        0\n",
              "flipper_length_mm    0\n",
              "body_mass_g          0\n",
              "sex                  0\n",
              "year                 0\n",
              "dtype: int64"
            ]
          },
          "metadata": {},
          "execution_count": 7
        }
      ]
    },
    {
      "cell_type": "markdown",
      "metadata": {
        "papermill": {
          "duration": 0.026473,
          "end_time": "2020-12-06T07:07:25.387584",
          "exception": false,
          "start_time": "2020-12-06T07:07:25.361111",
          "status": "completed"
        },
        "tags": [],
        "id": "cW3JpuOSCGt5"
      },
      "source": [
        "## Build Machine Learning Model"
      ]
    },
    {
      "cell_type": "code",
      "execution_count": 9,
      "metadata": {
        "execution": {
          "iopub.execute_input": "2020-12-06T07:07:25.453708Z",
          "iopub.status.busy": "2020-12-06T07:07:25.452797Z",
          "iopub.status.idle": "2020-12-06T07:07:25.458830Z",
          "shell.execute_reply": "2020-12-06T07:07:25.458183Z"
        },
        "papermill": {
          "duration": 0.044347,
          "end_time": "2020-12-06T07:07:25.458964",
          "exception": false,
          "start_time": "2020-12-06T07:07:25.414617",
          "status": "completed"
        },
        "tags": [],
        "id": "ApXqO9hxCGt6",
        "colab": {
          "base_uri": "https://localhost:8080/"
        },
        "outputId": "963ac168-51e5-4f38-de61-3b6682da7c66"
      },
      "outputs": [
        {
          "output_type": "stream",
          "name": "stdout",
          "text": [
            "X shape= (333, 7)\n",
            "y shape= (333,)\n"
          ]
        }
      ],
      "source": [
        "#Lets create feature matrix X  and y labels\n",
        "X= df.drop(['species'], axis=1)\n",
        "y = df['species']\n",
        "\n",
        "print('X shape=', X.shape)\n",
        "print('y shape=', y.shape)"
      ]
    },
    {
      "cell_type": "markdown",
      "metadata": {
        "papermill": {
          "duration": 0.027516,
          "end_time": "2020-12-06T07:07:25.514026",
          "exception": false,
          "start_time": "2020-12-06T07:07:25.486510",
          "status": "completed"
        },
        "tags": [],
        "id": "7dZ5uLRuCGt6"
      },
      "source": [
        "### Create Test And Train Dataset\n",
        "* We will split the dataset, so that we can use one set of data for training the model and one set of data for testing the model\n"
      ]
    },
    {
      "cell_type": "code",
      "execution_count": 10,
      "metadata": {
        "execution": {
          "iopub.execute_input": "2020-12-06T07:07:25.582138Z",
          "iopub.status.busy": "2020-12-06T07:07:25.581372Z",
          "iopub.status.idle": "2020-12-06T07:07:25.585476Z",
          "shell.execute_reply": "2020-12-06T07:07:25.584514Z"
        },
        "papermill": {
          "duration": 0.043366,
          "end_time": "2020-12-06T07:07:25.585626",
          "exception": false,
          "start_time": "2020-12-06T07:07:25.542260",
          "status": "completed"
        },
        "tags": [],
        "colab": {
          "base_uri": "https://localhost:8080/"
        },
        "id": "VSUHqi-vCGt6",
        "outputId": "43e319e3-7af3-442b-92a7-61b971659c24"
      },
      "outputs": [
        {
          "output_type": "stream",
          "name": "stdout",
          "text": [
            "X_train dimension=  (223, 7)\n",
            "X_test dimension=  (110, 7)\n",
            "y_train dimension=  (223,)\n",
            "y_train dimension=  (110,)\n"
          ]
        }
      ],
      "source": [
        "from sklearn.model_selection import train_test_split\n",
        "\n",
        "X_train,X_test, y_train, y_test = train_test_split(X, y, test_size=0.33, random_state=42)\n",
        "print('X_train dimension= ', X_train.shape)\n",
        "print('X_test dimension= ', X_test.shape)\n",
        "print('y_train dimension= ', y_train.shape)\n",
        "print('y_train dimension= ', y_test.shape)"
      ]
    },
    {
      "cell_type": "code",
      "source": [
        "X_test.reset_index(drop=True)\n",
        "y_test.reset_index(drop=True)\n",
        "X_test.head()"
      ],
      "metadata": {
        "colab": {
          "base_uri": "https://localhost:8080/",
          "height": 204
        },
        "id": "vvjQ9m6Iv9Ww",
        "outputId": "140512b3-d684-44c5-98e5-04ef5a9b13bc"
      },
      "execution_count": 11,
      "outputs": [
        {
          "output_type": "execute_result",
          "data": {
            "text/plain": [
              "        island  bill_length_mm  bill_depth_mm  flipper_length_mm  body_mass_g  \\\n",
              "30       Dream            39.5           16.7              178.0       3250.0   \n",
              "320      Dream            50.9           17.9              196.0       3675.0   \n",
              "79   Torgersen            42.1           19.1              195.0       4000.0   \n",
              "202     Biscoe            46.6           14.2              210.0       4850.0   \n",
              "63      Biscoe            41.1           18.2              192.0       4050.0   \n",
              "\n",
              "        sex  year  \n",
              "30   female  2007  \n",
              "320  female  2009  \n",
              "79     male  2008  \n",
              "202  female  2008  \n",
              "63     male  2008  "
            ],
            "text/html": [
              "\n",
              "  <div id=\"df-580a0d1b-65ef-4700-859f-49215916e97d\">\n",
              "    <div class=\"colab-df-container\">\n",
              "      <div>\n",
              "<style scoped>\n",
              "    .dataframe tbody tr th:only-of-type {\n",
              "        vertical-align: middle;\n",
              "    }\n",
              "\n",
              "    .dataframe tbody tr th {\n",
              "        vertical-align: top;\n",
              "    }\n",
              "\n",
              "    .dataframe thead th {\n",
              "        text-align: right;\n",
              "    }\n",
              "</style>\n",
              "<table border=\"1\" class=\"dataframe\">\n",
              "  <thead>\n",
              "    <tr style=\"text-align: right;\">\n",
              "      <th></th>\n",
              "      <th>island</th>\n",
              "      <th>bill_length_mm</th>\n",
              "      <th>bill_depth_mm</th>\n",
              "      <th>flipper_length_mm</th>\n",
              "      <th>body_mass_g</th>\n",
              "      <th>sex</th>\n",
              "      <th>year</th>\n",
              "    </tr>\n",
              "  </thead>\n",
              "  <tbody>\n",
              "    <tr>\n",
              "      <th>30</th>\n",
              "      <td>Dream</td>\n",
              "      <td>39.5</td>\n",
              "      <td>16.7</td>\n",
              "      <td>178.0</td>\n",
              "      <td>3250.0</td>\n",
              "      <td>female</td>\n",
              "      <td>2007</td>\n",
              "    </tr>\n",
              "    <tr>\n",
              "      <th>320</th>\n",
              "      <td>Dream</td>\n",
              "      <td>50.9</td>\n",
              "      <td>17.9</td>\n",
              "      <td>196.0</td>\n",
              "      <td>3675.0</td>\n",
              "      <td>female</td>\n",
              "      <td>2009</td>\n",
              "    </tr>\n",
              "    <tr>\n",
              "      <th>79</th>\n",
              "      <td>Torgersen</td>\n",
              "      <td>42.1</td>\n",
              "      <td>19.1</td>\n",
              "      <td>195.0</td>\n",
              "      <td>4000.0</td>\n",
              "      <td>male</td>\n",
              "      <td>2008</td>\n",
              "    </tr>\n",
              "    <tr>\n",
              "      <th>202</th>\n",
              "      <td>Biscoe</td>\n",
              "      <td>46.6</td>\n",
              "      <td>14.2</td>\n",
              "      <td>210.0</td>\n",
              "      <td>4850.0</td>\n",
              "      <td>female</td>\n",
              "      <td>2008</td>\n",
              "    </tr>\n",
              "    <tr>\n",
              "      <th>63</th>\n",
              "      <td>Biscoe</td>\n",
              "      <td>41.1</td>\n",
              "      <td>18.2</td>\n",
              "      <td>192.0</td>\n",
              "      <td>4050.0</td>\n",
              "      <td>male</td>\n",
              "      <td>2008</td>\n",
              "    </tr>\n",
              "  </tbody>\n",
              "</table>\n",
              "</div>\n",
              "      <button class=\"colab-df-convert\" onclick=\"convertToInteractive('df-580a0d1b-65ef-4700-859f-49215916e97d')\"\n",
              "              title=\"Convert this dataframe to an interactive table.\"\n",
              "              style=\"display:none;\">\n",
              "        \n",
              "  <svg xmlns=\"http://www.w3.org/2000/svg\" height=\"24px\"viewBox=\"0 0 24 24\"\n",
              "       width=\"24px\">\n",
              "    <path d=\"M0 0h24v24H0V0z\" fill=\"none\"/>\n",
              "    <path d=\"M18.56 5.44l.94 2.06.94-2.06 2.06-.94-2.06-.94-.94-2.06-.94 2.06-2.06.94zm-11 1L8.5 8.5l.94-2.06 2.06-.94-2.06-.94L8.5 2.5l-.94 2.06-2.06.94zm10 10l.94 2.06.94-2.06 2.06-.94-2.06-.94-.94-2.06-.94 2.06-2.06.94z\"/><path d=\"M17.41 7.96l-1.37-1.37c-.4-.4-.92-.59-1.43-.59-.52 0-1.04.2-1.43.59L10.3 9.45l-7.72 7.72c-.78.78-.78 2.05 0 2.83L4 21.41c.39.39.9.59 1.41.59.51 0 1.02-.2 1.41-.59l7.78-7.78 2.81-2.81c.8-.78.8-2.07 0-2.86zM5.41 20L4 18.59l7.72-7.72 1.47 1.35L5.41 20z\"/>\n",
              "  </svg>\n",
              "      </button>\n",
              "      \n",
              "  <style>\n",
              "    .colab-df-container {\n",
              "      display:flex;\n",
              "      flex-wrap:wrap;\n",
              "      gap: 12px;\n",
              "    }\n",
              "\n",
              "    .colab-df-convert {\n",
              "      background-color: #E8F0FE;\n",
              "      border: none;\n",
              "      border-radius: 50%;\n",
              "      cursor: pointer;\n",
              "      display: none;\n",
              "      fill: #1967D2;\n",
              "      height: 32px;\n",
              "      padding: 0 0 0 0;\n",
              "      width: 32px;\n",
              "    }\n",
              "\n",
              "    .colab-df-convert:hover {\n",
              "      background-color: #E2EBFA;\n",
              "      box-shadow: 0px 1px 2px rgba(60, 64, 67, 0.3), 0px 1px 3px 1px rgba(60, 64, 67, 0.15);\n",
              "      fill: #174EA6;\n",
              "    }\n",
              "\n",
              "    [theme=dark] .colab-df-convert {\n",
              "      background-color: #3B4455;\n",
              "      fill: #D2E3FC;\n",
              "    }\n",
              "\n",
              "    [theme=dark] .colab-df-convert:hover {\n",
              "      background-color: #434B5C;\n",
              "      box-shadow: 0px 1px 3px 1px rgba(0, 0, 0, 0.15);\n",
              "      filter: drop-shadow(0px 1px 2px rgba(0, 0, 0, 0.3));\n",
              "      fill: #FFFFFF;\n",
              "    }\n",
              "  </style>\n",
              "\n",
              "      <script>\n",
              "        const buttonEl =\n",
              "          document.querySelector('#df-580a0d1b-65ef-4700-859f-49215916e97d button.colab-df-convert');\n",
              "        buttonEl.style.display =\n",
              "          google.colab.kernel.accessAllowed ? 'block' : 'none';\n",
              "\n",
              "        async function convertToInteractive(key) {\n",
              "          const element = document.querySelector('#df-580a0d1b-65ef-4700-859f-49215916e97d');\n",
              "          const dataTable =\n",
              "            await google.colab.kernel.invokeFunction('convertToInteractive',\n",
              "                                                     [key], {});\n",
              "          if (!dataTable) return;\n",
              "\n",
              "          const docLinkHtml = 'Like what you see? Visit the ' +\n",
              "            '<a target=\"_blank\" href=https://colab.research.google.com/notebooks/data_table.ipynb>data table notebook</a>'\n",
              "            + ' to learn more about interactive tables.';\n",
              "          element.innerHTML = '';\n",
              "          dataTable['output_type'] = 'display_data';\n",
              "          await google.colab.output.renderOutput(dataTable, element);\n",
              "          const docLink = document.createElement('div');\n",
              "          docLink.innerHTML = docLinkHtml;\n",
              "          element.appendChild(docLink);\n",
              "        }\n",
              "      </script>\n",
              "    </div>\n",
              "  </div>\n",
              "  "
            ]
          },
          "metadata": {},
          "execution_count": 11
        }
      ]
    },
    {
      "cell_type": "code",
      "source": [
        "X_train.reset_index(drop=True)\n",
        "y_train.reset_index(drop=True)\n",
        "X_train.head()"
      ],
      "metadata": {
        "colab": {
          "base_uri": "https://localhost:8080/",
          "height": 204
        },
        "id": "_gy_v66SwHUA",
        "outputId": "20ddaf87-9d7b-44ee-ec3c-ef11b1ff19ac"
      },
      "execution_count": 12,
      "outputs": [
        {
          "output_type": "execute_result",
          "data": {
            "text/plain": [
              "     island  bill_length_mm  bill_depth_mm  flipper_length_mm  body_mass_g  \\\n",
              "44    Dream            37.0           16.9              185.0       3000.0   \n",
              "321   Dream            50.8           18.5              201.0       4450.0   \n",
              "110  Biscoe            38.1           16.5              198.0       3825.0   \n",
              "161  Biscoe            46.8           15.4              215.0       5150.0   \n",
              "200  Biscoe            44.9           13.3              213.0       5100.0   \n",
              "\n",
              "        sex  year  \n",
              "44   female  2007  \n",
              "321    male  2009  \n",
              "110  female  2009  \n",
              "161    male  2007  \n",
              "200  female  2008  "
            ],
            "text/html": [
              "\n",
              "  <div id=\"df-85b59e1d-8337-4595-99f2-c07a02ae2a07\">\n",
              "    <div class=\"colab-df-container\">\n",
              "      <div>\n",
              "<style scoped>\n",
              "    .dataframe tbody tr th:only-of-type {\n",
              "        vertical-align: middle;\n",
              "    }\n",
              "\n",
              "    .dataframe tbody tr th {\n",
              "        vertical-align: top;\n",
              "    }\n",
              "\n",
              "    .dataframe thead th {\n",
              "        text-align: right;\n",
              "    }\n",
              "</style>\n",
              "<table border=\"1\" class=\"dataframe\">\n",
              "  <thead>\n",
              "    <tr style=\"text-align: right;\">\n",
              "      <th></th>\n",
              "      <th>island</th>\n",
              "      <th>bill_length_mm</th>\n",
              "      <th>bill_depth_mm</th>\n",
              "      <th>flipper_length_mm</th>\n",
              "      <th>body_mass_g</th>\n",
              "      <th>sex</th>\n",
              "      <th>year</th>\n",
              "    </tr>\n",
              "  </thead>\n",
              "  <tbody>\n",
              "    <tr>\n",
              "      <th>44</th>\n",
              "      <td>Dream</td>\n",
              "      <td>37.0</td>\n",
              "      <td>16.9</td>\n",
              "      <td>185.0</td>\n",
              "      <td>3000.0</td>\n",
              "      <td>female</td>\n",
              "      <td>2007</td>\n",
              "    </tr>\n",
              "    <tr>\n",
              "      <th>321</th>\n",
              "      <td>Dream</td>\n",
              "      <td>50.8</td>\n",
              "      <td>18.5</td>\n",
              "      <td>201.0</td>\n",
              "      <td>4450.0</td>\n",
              "      <td>male</td>\n",
              "      <td>2009</td>\n",
              "    </tr>\n",
              "    <tr>\n",
              "      <th>110</th>\n",
              "      <td>Biscoe</td>\n",
              "      <td>38.1</td>\n",
              "      <td>16.5</td>\n",
              "      <td>198.0</td>\n",
              "      <td>3825.0</td>\n",
              "      <td>female</td>\n",
              "      <td>2009</td>\n",
              "    </tr>\n",
              "    <tr>\n",
              "      <th>161</th>\n",
              "      <td>Biscoe</td>\n",
              "      <td>46.8</td>\n",
              "      <td>15.4</td>\n",
              "      <td>215.0</td>\n",
              "      <td>5150.0</td>\n",
              "      <td>male</td>\n",
              "      <td>2007</td>\n",
              "    </tr>\n",
              "    <tr>\n",
              "      <th>200</th>\n",
              "      <td>Biscoe</td>\n",
              "      <td>44.9</td>\n",
              "      <td>13.3</td>\n",
              "      <td>213.0</td>\n",
              "      <td>5100.0</td>\n",
              "      <td>female</td>\n",
              "      <td>2008</td>\n",
              "    </tr>\n",
              "  </tbody>\n",
              "</table>\n",
              "</div>\n",
              "      <button class=\"colab-df-convert\" onclick=\"convertToInteractive('df-85b59e1d-8337-4595-99f2-c07a02ae2a07')\"\n",
              "              title=\"Convert this dataframe to an interactive table.\"\n",
              "              style=\"display:none;\">\n",
              "        \n",
              "  <svg xmlns=\"http://www.w3.org/2000/svg\" height=\"24px\"viewBox=\"0 0 24 24\"\n",
              "       width=\"24px\">\n",
              "    <path d=\"M0 0h24v24H0V0z\" fill=\"none\"/>\n",
              "    <path d=\"M18.56 5.44l.94 2.06.94-2.06 2.06-.94-2.06-.94-.94-2.06-.94 2.06-2.06.94zm-11 1L8.5 8.5l.94-2.06 2.06-.94-2.06-.94L8.5 2.5l-.94 2.06-2.06.94zm10 10l.94 2.06.94-2.06 2.06-.94-2.06-.94-.94-2.06-.94 2.06-2.06.94z\"/><path d=\"M17.41 7.96l-1.37-1.37c-.4-.4-.92-.59-1.43-.59-.52 0-1.04.2-1.43.59L10.3 9.45l-7.72 7.72c-.78.78-.78 2.05 0 2.83L4 21.41c.39.39.9.59 1.41.59.51 0 1.02-.2 1.41-.59l7.78-7.78 2.81-2.81c.8-.78.8-2.07 0-2.86zM5.41 20L4 18.59l7.72-7.72 1.47 1.35L5.41 20z\"/>\n",
              "  </svg>\n",
              "      </button>\n",
              "      \n",
              "  <style>\n",
              "    .colab-df-container {\n",
              "      display:flex;\n",
              "      flex-wrap:wrap;\n",
              "      gap: 12px;\n",
              "    }\n",
              "\n",
              "    .colab-df-convert {\n",
              "      background-color: #E8F0FE;\n",
              "      border: none;\n",
              "      border-radius: 50%;\n",
              "      cursor: pointer;\n",
              "      display: none;\n",
              "      fill: #1967D2;\n",
              "      height: 32px;\n",
              "      padding: 0 0 0 0;\n",
              "      width: 32px;\n",
              "    }\n",
              "\n",
              "    .colab-df-convert:hover {\n",
              "      background-color: #E2EBFA;\n",
              "      box-shadow: 0px 1px 2px rgba(60, 64, 67, 0.3), 0px 1px 3px 1px rgba(60, 64, 67, 0.15);\n",
              "      fill: #174EA6;\n",
              "    }\n",
              "\n",
              "    [theme=dark] .colab-df-convert {\n",
              "      background-color: #3B4455;\n",
              "      fill: #D2E3FC;\n",
              "    }\n",
              "\n",
              "    [theme=dark] .colab-df-convert:hover {\n",
              "      background-color: #434B5C;\n",
              "      box-shadow: 0px 1px 3px 1px rgba(0, 0, 0, 0.15);\n",
              "      filter: drop-shadow(0px 1px 2px rgba(0, 0, 0, 0.3));\n",
              "      fill: #FFFFFF;\n",
              "    }\n",
              "  </style>\n",
              "\n",
              "      <script>\n",
              "        const buttonEl =\n",
              "          document.querySelector('#df-85b59e1d-8337-4595-99f2-c07a02ae2a07 button.colab-df-convert');\n",
              "        buttonEl.style.display =\n",
              "          google.colab.kernel.accessAllowed ? 'block' : 'none';\n",
              "\n",
              "        async function convertToInteractive(key) {\n",
              "          const element = document.querySelector('#df-85b59e1d-8337-4595-99f2-c07a02ae2a07');\n",
              "          const dataTable =\n",
              "            await google.colab.kernel.invokeFunction('convertToInteractive',\n",
              "                                                     [key], {});\n",
              "          if (!dataTable) return;\n",
              "\n",
              "          const docLinkHtml = 'Like what you see? Visit the ' +\n",
              "            '<a target=\"_blank\" href=https://colab.research.google.com/notebooks/data_table.ipynb>data table notebook</a>'\n",
              "            + ' to learn more about interactive tables.';\n",
              "          element.innerHTML = '';\n",
              "          dataTable['output_type'] = 'display_data';\n",
              "          await google.colab.output.renderOutput(dataTable, element);\n",
              "          const docLink = document.createElement('div');\n",
              "          docLink.innerHTML = docLinkHtml;\n",
              "          element.appendChild(docLink);\n",
              "        }\n",
              "      </script>\n",
              "    </div>\n",
              "  </div>\n",
              "  "
            ]
          },
          "metadata": {},
          "execution_count": 12
        }
      ]
    },
    {
      "cell_type": "code",
      "source": [
        "!pip install category_encoders\n",
        "\n"
      ],
      "metadata": {
        "colab": {
          "base_uri": "https://localhost:8080/"
        },
        "id": "QkJ33uM5xAOt",
        "outputId": "9b17ec2a-dae1-415f-8760-c470a2bcd2c8"
      },
      "execution_count": 19,
      "outputs": [
        {
          "output_type": "stream",
          "name": "stdout",
          "text": [
            "Looking in indexes: https://pypi.org/simple, https://us-python.pkg.dev/colab-wheels/public/simple/\n",
            "Collecting category_encoders\n",
            "  Downloading category_encoders-2.6.0-py2.py3-none-any.whl (81 kB)\n",
            "\u001b[2K     \u001b[90m━━━━━━━━━━━━━━━━━━━━━━━━━━━━━━━━━━━━━━━━\u001b[0m \u001b[32m81.2/81.2 KB\u001b[0m \u001b[31m1.9 MB/s\u001b[0m eta \u001b[36m0:00:00\u001b[0m\n",
            "\u001b[?25hRequirement already satisfied: pandas>=1.0.5 in /usr/local/lib/python3.8/dist-packages (from category_encoders) (1.3.5)\n",
            "Requirement already satisfied: scipy>=1.0.0 in /usr/local/lib/python3.8/dist-packages (from category_encoders) (1.7.3)\n",
            "Requirement already satisfied: scikit-learn>=0.20.0 in /usr/local/lib/python3.8/dist-packages (from category_encoders) (1.0.2)\n",
            "Requirement already satisfied: patsy>=0.5.1 in /usr/local/lib/python3.8/dist-packages (from category_encoders) (0.5.3)\n",
            "Requirement already satisfied: statsmodels>=0.9.0 in /usr/local/lib/python3.8/dist-packages (from category_encoders) (0.12.2)\n",
            "Requirement already satisfied: numpy>=1.14.0 in /usr/local/lib/python3.8/dist-packages (from category_encoders) (1.21.6)\n",
            "Requirement already satisfied: python-dateutil>=2.7.3 in /usr/local/lib/python3.8/dist-packages (from pandas>=1.0.5->category_encoders) (2.8.2)\n",
            "Requirement already satisfied: pytz>=2017.3 in /usr/local/lib/python3.8/dist-packages (from pandas>=1.0.5->category_encoders) (2022.7.1)\n",
            "Requirement already satisfied: six in /usr/local/lib/python3.8/dist-packages (from patsy>=0.5.1->category_encoders) (1.15.0)\n",
            "Requirement already satisfied: joblib>=0.11 in /usr/local/lib/python3.8/dist-packages (from scikit-learn>=0.20.0->category_encoders) (1.2.0)\n",
            "Requirement already satisfied: threadpoolctl>=2.0.0 in /usr/local/lib/python3.8/dist-packages (from scikit-learn>=0.20.0->category_encoders) (3.1.0)\n",
            "Installing collected packages: category_encoders\n",
            "Successfully installed category_encoders-2.6.0\n"
          ]
        }
      ]
    },
    {
      "cell_type": "code",
      "source": [
        "import category_encoders as  ce\n",
        "# defying a function to clean the data \n",
        "def tratamento(df):\n",
        "    #https://www.youtube.com/watch?v=CGMhil6obDA\n",
        "    encoder = ce.OneHotEncoder(cols = 'island',use_cat_names=True)\n",
        "    df = encoder.fit_transform(df)\n",
        "    df['sex'] = np.where(df['sex']== 'FEMALE',1,0)\n",
        "    df = df.fillna(0)\n",
        "    \n",
        "    return df "
      ],
      "metadata": {
        "id": "hxr1jbZ9wgwX"
      },
      "execution_count": 20,
      "outputs": []
    },
    {
      "cell_type": "code",
      "source": [
        "x_train_tra =tratamento(X_train)"
      ],
      "metadata": {
        "id": "-picBGAowiyk"
      },
      "execution_count": 21,
      "outputs": []
    },
    {
      "cell_type": "markdown",
      "metadata": {
        "papermill": {
          "duration": 0.027447,
          "end_time": "2020-12-06T07:07:25.642203",
          "exception": false,
          "start_time": "2020-12-06T07:07:25.614756",
          "status": "completed"
        },
        "tags": [],
        "id": "p7WsQJZ_CGt7"
      },
      "source": [
        "Now lets train the model using Decision Tree"
      ]
    },
    {
      "cell_type": "code",
      "execution_count": 25,
      "metadata": {
        "execution": {
          "iopub.execute_input": "2020-12-06T07:07:25.707784Z",
          "iopub.status.busy": "2020-12-06T07:07:25.705139Z",
          "iopub.status.idle": "2020-12-06T07:07:25.716581Z",
          "shell.execute_reply": "2020-12-06T07:07:25.715730Z"
        },
        "papermill": {
          "duration": 0.046985,
          "end_time": "2020-12-06T07:07:25.716712",
          "exception": false,
          "start_time": "2020-12-06T07:07:25.669727",
          "status": "completed"
        },
        "tags": [],
        "id": "EnTnQ5IOCGt7"
      },
      "outputs": [],
      "source": [
        "\"\"\"\n",
        "To obtain a deterministic behaviour during fitting always set value for 'random_state' attribute\n",
        "Also note that default value of criteria to split the data is 'gini'\n",
        "You are reuesyed to use 'entropy' criteria in the lab\n",
        "\"\"\"\n",
        "cls = tree.DecisionTreeClassifier(criterion='entropy')\n",
        "estimator=cls.fit(x_train_tra,y_train)\n",
        "\n",
        "#Fit the model using the fit method. \n",
        "# Predict Accuracy Score\n",
        "y_pred = cls.predict(x_train_tra)"
      ]
    },
    {
      "cell_type": "code",
      "execution_count": 26,
      "metadata": {
        "execution": {
          "iopub.execute_input": "2020-12-06T07:07:25.902327Z",
          "iopub.status.busy": "2020-12-06T07:07:25.897386Z",
          "iopub.status.idle": "2020-12-06T07:07:25.906980Z",
          "shell.execute_reply": "2020-12-06T07:07:25.907644Z"
        },
        "papermill": {
          "duration": 0.061191,
          "end_time": "2020-12-06T07:07:25.907837",
          "exception": false,
          "start_time": "2020-12-06T07:07:25.846646",
          "status": "completed"
        },
        "tags": [],
        "id": "zkUSoE_gCGt7",
        "colab": {
          "base_uri": "https://localhost:8080/",
          "height": 268
        },
        "outputId": "5ef1624a-71cc-4371-d3d8-c294971b1d6f"
      },
      "outputs": [
        {
          "output_type": "execute_result",
          "data": {
            "text/plain": [
              "     island_Dream  island_Biscoe  island_Torgersen  bill_length_mm  \\\n",
              "44              1              0                 0            37.0   \n",
              "321             1              0                 0            50.8   \n",
              "110             0              1                 0            38.1   \n",
              "161             0              1                 0            46.8   \n",
              "200             0              1                 0            44.9   \n",
              "\n",
              "     bill_depth_mm  flipper_length_mm  body_mass_g  sex  year  \n",
              "44            16.9              185.0       3000.0    0  2007  \n",
              "321           18.5              201.0       4450.0    0  2009  \n",
              "110           16.5              198.0       3825.0    0  2009  \n",
              "161           15.4              215.0       5150.0    0  2007  \n",
              "200           13.3              213.0       5100.0    0  2008  "
            ],
            "text/html": [
              "\n",
              "  <div id=\"df-3802810e-c602-43c7-88b1-104a0c0195cf\">\n",
              "    <div class=\"colab-df-container\">\n",
              "      <div>\n",
              "<style scoped>\n",
              "    .dataframe tbody tr th:only-of-type {\n",
              "        vertical-align: middle;\n",
              "    }\n",
              "\n",
              "    .dataframe tbody tr th {\n",
              "        vertical-align: top;\n",
              "    }\n",
              "\n",
              "    .dataframe thead th {\n",
              "        text-align: right;\n",
              "    }\n",
              "</style>\n",
              "<table border=\"1\" class=\"dataframe\">\n",
              "  <thead>\n",
              "    <tr style=\"text-align: right;\">\n",
              "      <th></th>\n",
              "      <th>island_Dream</th>\n",
              "      <th>island_Biscoe</th>\n",
              "      <th>island_Torgersen</th>\n",
              "      <th>bill_length_mm</th>\n",
              "      <th>bill_depth_mm</th>\n",
              "      <th>flipper_length_mm</th>\n",
              "      <th>body_mass_g</th>\n",
              "      <th>sex</th>\n",
              "      <th>year</th>\n",
              "    </tr>\n",
              "  </thead>\n",
              "  <tbody>\n",
              "    <tr>\n",
              "      <th>44</th>\n",
              "      <td>1</td>\n",
              "      <td>0</td>\n",
              "      <td>0</td>\n",
              "      <td>37.0</td>\n",
              "      <td>16.9</td>\n",
              "      <td>185.0</td>\n",
              "      <td>3000.0</td>\n",
              "      <td>0</td>\n",
              "      <td>2007</td>\n",
              "    </tr>\n",
              "    <tr>\n",
              "      <th>321</th>\n",
              "      <td>1</td>\n",
              "      <td>0</td>\n",
              "      <td>0</td>\n",
              "      <td>50.8</td>\n",
              "      <td>18.5</td>\n",
              "      <td>201.0</td>\n",
              "      <td>4450.0</td>\n",
              "      <td>0</td>\n",
              "      <td>2009</td>\n",
              "    </tr>\n",
              "    <tr>\n",
              "      <th>110</th>\n",
              "      <td>0</td>\n",
              "      <td>1</td>\n",
              "      <td>0</td>\n",
              "      <td>38.1</td>\n",
              "      <td>16.5</td>\n",
              "      <td>198.0</td>\n",
              "      <td>3825.0</td>\n",
              "      <td>0</td>\n",
              "      <td>2009</td>\n",
              "    </tr>\n",
              "    <tr>\n",
              "      <th>161</th>\n",
              "      <td>0</td>\n",
              "      <td>1</td>\n",
              "      <td>0</td>\n",
              "      <td>46.8</td>\n",
              "      <td>15.4</td>\n",
              "      <td>215.0</td>\n",
              "      <td>5150.0</td>\n",
              "      <td>0</td>\n",
              "      <td>2007</td>\n",
              "    </tr>\n",
              "    <tr>\n",
              "      <th>200</th>\n",
              "      <td>0</td>\n",
              "      <td>1</td>\n",
              "      <td>0</td>\n",
              "      <td>44.9</td>\n",
              "      <td>13.3</td>\n",
              "      <td>213.0</td>\n",
              "      <td>5100.0</td>\n",
              "      <td>0</td>\n",
              "      <td>2008</td>\n",
              "    </tr>\n",
              "  </tbody>\n",
              "</table>\n",
              "</div>\n",
              "      <button class=\"colab-df-convert\" onclick=\"convertToInteractive('df-3802810e-c602-43c7-88b1-104a0c0195cf')\"\n",
              "              title=\"Convert this dataframe to an interactive table.\"\n",
              "              style=\"display:none;\">\n",
              "        \n",
              "  <svg xmlns=\"http://www.w3.org/2000/svg\" height=\"24px\"viewBox=\"0 0 24 24\"\n",
              "       width=\"24px\">\n",
              "    <path d=\"M0 0h24v24H0V0z\" fill=\"none\"/>\n",
              "    <path d=\"M18.56 5.44l.94 2.06.94-2.06 2.06-.94-2.06-.94-.94-2.06-.94 2.06-2.06.94zm-11 1L8.5 8.5l.94-2.06 2.06-.94-2.06-.94L8.5 2.5l-.94 2.06-2.06.94zm10 10l.94 2.06.94-2.06 2.06-.94-2.06-.94-.94-2.06-.94 2.06-2.06.94z\"/><path d=\"M17.41 7.96l-1.37-1.37c-.4-.4-.92-.59-1.43-.59-.52 0-1.04.2-1.43.59L10.3 9.45l-7.72 7.72c-.78.78-.78 2.05 0 2.83L4 21.41c.39.39.9.59 1.41.59.51 0 1.02-.2 1.41-.59l7.78-7.78 2.81-2.81c.8-.78.8-2.07 0-2.86zM5.41 20L4 18.59l7.72-7.72 1.47 1.35L5.41 20z\"/>\n",
              "  </svg>\n",
              "      </button>\n",
              "      \n",
              "  <style>\n",
              "    .colab-df-container {\n",
              "      display:flex;\n",
              "      flex-wrap:wrap;\n",
              "      gap: 12px;\n",
              "    }\n",
              "\n",
              "    .colab-df-convert {\n",
              "      background-color: #E8F0FE;\n",
              "      border: none;\n",
              "      border-radius: 50%;\n",
              "      cursor: pointer;\n",
              "      display: none;\n",
              "      fill: #1967D2;\n",
              "      height: 32px;\n",
              "      padding: 0 0 0 0;\n",
              "      width: 32px;\n",
              "    }\n",
              "\n",
              "    .colab-df-convert:hover {\n",
              "      background-color: #E2EBFA;\n",
              "      box-shadow: 0px 1px 2px rgba(60, 64, 67, 0.3), 0px 1px 3px 1px rgba(60, 64, 67, 0.15);\n",
              "      fill: #174EA6;\n",
              "    }\n",
              "\n",
              "    [theme=dark] .colab-df-convert {\n",
              "      background-color: #3B4455;\n",
              "      fill: #D2E3FC;\n",
              "    }\n",
              "\n",
              "    [theme=dark] .colab-df-convert:hover {\n",
              "      background-color: #434B5C;\n",
              "      box-shadow: 0px 1px 3px 1px rgba(0, 0, 0, 0.15);\n",
              "      filter: drop-shadow(0px 1px 2px rgba(0, 0, 0, 0.3));\n",
              "      fill: #FFFFFF;\n",
              "    }\n",
              "  </style>\n",
              "\n",
              "      <script>\n",
              "        const buttonEl =\n",
              "          document.querySelector('#df-3802810e-c602-43c7-88b1-104a0c0195cf button.colab-df-convert');\n",
              "        buttonEl.style.display =\n",
              "          google.colab.kernel.accessAllowed ? 'block' : 'none';\n",
              "\n",
              "        async function convertToInteractive(key) {\n",
              "          const element = document.querySelector('#df-3802810e-c602-43c7-88b1-104a0c0195cf');\n",
              "          const dataTable =\n",
              "            await google.colab.kernel.invokeFunction('convertToInteractive',\n",
              "                                                     [key], {});\n",
              "          if (!dataTable) return;\n",
              "\n",
              "          const docLinkHtml = 'Like what you see? Visit the ' +\n",
              "            '<a target=\"_blank\" href=https://colab.research.google.com/notebooks/data_table.ipynb>data table notebook</a>'\n",
              "            + ' to learn more about interactive tables.';\n",
              "          element.innerHTML = '';\n",
              "          dataTable['output_type'] = 'display_data';\n",
              "          await google.colab.output.renderOutput(dataTable, element);\n",
              "          const docLink = document.createElement('div');\n",
              "          docLink.innerHTML = docLinkHtml;\n",
              "          element.appendChild(docLink);\n",
              "        }\n",
              "      </script>\n",
              "    </div>\n",
              "  </div>\n",
              "  "
            ]
          },
          "metadata": {},
          "execution_count": 26
        }
      ],
      "source": [
        "x_train_tra.head()"
      ]
    },
    {
      "cell_type": "code",
      "source": [
        "prediction= cls.predict(x_train_tra)\n",
        "print(prediction[10])\n",
        "print(prediction[20])\n",
        "print(prediction[29])\n",
        "\n",
        "print(y_test) # to check that \n"
      ],
      "metadata": {
        "colab": {
          "base_uri": "https://localhost:8080/"
        },
        "id": "c6J_hu0uA45c",
        "outputId": "2b20217b-f3d6-4800-e64b-47929088b14a"
      },
      "execution_count": 30,
      "outputs": [
        {
          "output_type": "stream",
          "name": "stdout",
          "text": [
            "Adelie\n",
            "Adelie\n",
            "Adelie\n",
            "30        Adelie\n",
            "320    Chinstrap\n",
            "79        Adelie\n",
            "202       Gentoo\n",
            "63        Adelie\n",
            "         ...    \n",
            "15        Adelie\n",
            "233       Gentoo\n",
            "235       Gentoo\n",
            "87        Adelie\n",
            "159       Gentoo\n",
            "Name: species, Length: 110, dtype: object\n"
          ]
        }
      ]
    },
    {
      "cell_type": "code",
      "source": [
        "predicted = cls.predict(x_train_tra)\n",
        "expected = list(y_test)\n",
        "\n",
        "data=[]\n",
        "from tabulate import tabulate\n",
        "for i in range(len(y_test)):\n",
        "  data.append([i,predicted[i],expected[i]])\n",
        "\n",
        "print (data)\n",
        "#print(tabulate([data], headers=['value','predicted', 'expected'], tablefmt='orgtbl'))\n",
        "# predicting and printing data\n",
        "\n",
        "# create header\n",
        "head = [\"value \", \"expected\",\"predicted\"]\n",
        " \n",
        "# display table\n",
        "print(tabulate(data, headers=head, tablefmt=\"grid\"))\n"
      ],
      "metadata": {
        "colab": {
          "base_uri": "https://localhost:8080/"
        },
        "id": "t33TxEhfGe2Y",
        "outputId": "0f70be43-ee76-4d87-8320-fbc36106542c"
      },
      "execution_count": 35,
      "outputs": [
        {
          "output_type": "stream",
          "name": "stdout",
          "text": [
            "[[0, 'Adelie', 'Adelie'], [1, 'Chinstrap', 'Chinstrap'], [2, 'Adelie', 'Adelie'], [3, 'Gentoo', 'Gentoo'], [4, 'Gentoo', 'Adelie'], [5, 'Gentoo', 'Chinstrap'], [6, 'Adelie', 'Chinstrap'], [7, 'Gentoo', 'Gentoo'], [8, 'Adelie', 'Gentoo'], [9, 'Gentoo', 'Gentoo'], [10, 'Adelie', 'Adelie'], [11, 'Gentoo', 'Adelie'], [12, 'Chinstrap', 'Chinstrap'], [13, 'Adelie', 'Adelie'], [14, 'Adelie', 'Chinstrap'], [15, 'Chinstrap', 'Adelie'], [16, 'Adelie', 'Adelie'], [17, 'Adelie', 'Gentoo'], [18, 'Adelie', 'Adelie'], [19, 'Gentoo', 'Chinstrap'], [20, 'Adelie', 'Adelie'], [21, 'Adelie', 'Adelie'], [22, 'Gentoo', 'Chinstrap'], [23, 'Adelie', 'Gentoo'], [24, 'Adelie', 'Adelie'], [25, 'Adelie', 'Adelie'], [26, 'Gentoo', 'Gentoo'], [27, 'Adelie', 'Chinstrap'], [28, 'Chinstrap', 'Gentoo'], [29, 'Adelie', 'Chinstrap'], [30, 'Adelie', 'Gentoo'], [31, 'Gentoo', 'Chinstrap'], [32, 'Adelie', 'Adelie'], [33, 'Chinstrap', 'Adelie'], [34, 'Gentoo', 'Chinstrap'], [35, 'Chinstrap', 'Chinstrap'], [36, 'Gentoo', 'Gentoo'], [37, 'Chinstrap', 'Gentoo'], [38, 'Gentoo', 'Adelie'], [39, 'Gentoo', 'Adelie'], [40, 'Gentoo', 'Adelie'], [41, 'Gentoo', 'Adelie'], [42, 'Adelie', 'Gentoo'], [43, 'Adelie', 'Gentoo'], [44, 'Gentoo', 'Adelie'], [45, 'Gentoo', 'Adelie'], [46, 'Gentoo', 'Chinstrap'], [47, 'Adelie', 'Adelie'], [48, 'Gentoo', 'Adelie'], [49, 'Gentoo', 'Chinstrap'], [50, 'Adelie', 'Adelie'], [51, 'Chinstrap', 'Gentoo'], [52, 'Chinstrap', 'Gentoo'], [53, 'Chinstrap', 'Adelie'], [54, 'Gentoo', 'Adelie'], [55, 'Gentoo', 'Gentoo'], [56, 'Gentoo', 'Adelie'], [57, 'Gentoo', 'Adelie'], [58, 'Gentoo', 'Gentoo'], [59, 'Adelie', 'Gentoo'], [60, 'Adelie', 'Chinstrap'], [61, 'Gentoo', 'Chinstrap'], [62, 'Chinstrap', 'Chinstrap'], [63, 'Adelie', 'Adelie'], [64, 'Chinstrap', 'Adelie'], [65, 'Chinstrap', 'Chinstrap'], [66, 'Adelie', 'Adelie'], [67, 'Adelie', 'Gentoo'], [68, 'Adelie', 'Adelie'], [69, 'Adelie', 'Chinstrap'], [70, 'Chinstrap', 'Adelie'], [71, 'Adelie', 'Adelie'], [72, 'Gentoo', 'Gentoo'], [73, 'Chinstrap', 'Chinstrap'], [74, 'Adelie', 'Gentoo'], [75, 'Gentoo', 'Gentoo'], [76, 'Gentoo', 'Adelie'], [77, 'Adelie', 'Adelie'], [78, 'Chinstrap', 'Adelie'], [79, 'Adelie', 'Gentoo'], [80, 'Chinstrap', 'Adelie'], [81, 'Adelie', 'Adelie'], [82, 'Gentoo', 'Gentoo'], [83, 'Adelie', 'Adelie'], [84, 'Gentoo', 'Chinstrap'], [85, 'Adelie', 'Gentoo'], [86, 'Adelie', 'Adelie'], [87, 'Adelie', 'Chinstrap'], [88, 'Gentoo', 'Gentoo'], [89, 'Adelie', 'Gentoo'], [90, 'Gentoo', 'Gentoo'], [91, 'Adelie', 'Chinstrap'], [92, 'Chinstrap', 'Adelie'], [93, 'Adelie', 'Adelie'], [94, 'Adelie', 'Adelie'], [95, 'Gentoo', 'Adelie'], [96, 'Gentoo', 'Adelie'], [97, 'Gentoo', 'Gentoo'], [98, 'Adelie', 'Adelie'], [99, 'Adelie', 'Adelie'], [100, 'Adelie', 'Adelie'], [101, 'Gentoo', 'Chinstrap'], [102, 'Gentoo', 'Chinstrap'], [103, 'Adelie', 'Adelie'], [104, 'Adelie', 'Gentoo'], [105, 'Chinstrap', 'Adelie'], [106, 'Adelie', 'Gentoo'], [107, 'Gentoo', 'Gentoo'], [108, 'Adelie', 'Adelie'], [109, 'Chinstrap', 'Gentoo']]\n",
            "+----------+------------+-------------+\n",
            "|   value  | expected   | predicted   |\n",
            "+==========+============+=============+\n",
            "|        0 | Adelie     | Adelie      |\n",
            "+----------+------------+-------------+\n",
            "|        1 | Chinstrap  | Chinstrap   |\n",
            "+----------+------------+-------------+\n",
            "|        2 | Adelie     | Adelie      |\n",
            "+----------+------------+-------------+\n",
            "|        3 | Gentoo     | Gentoo      |\n",
            "+----------+------------+-------------+\n",
            "|        4 | Gentoo     | Adelie      |\n",
            "+----------+------------+-------------+\n",
            "|        5 | Gentoo     | Chinstrap   |\n",
            "+----------+------------+-------------+\n",
            "|        6 | Adelie     | Chinstrap   |\n",
            "+----------+------------+-------------+\n",
            "|        7 | Gentoo     | Gentoo      |\n",
            "+----------+------------+-------------+\n",
            "|        8 | Adelie     | Gentoo      |\n",
            "+----------+------------+-------------+\n",
            "|        9 | Gentoo     | Gentoo      |\n",
            "+----------+------------+-------------+\n",
            "|       10 | Adelie     | Adelie      |\n",
            "+----------+------------+-------------+\n",
            "|       11 | Gentoo     | Adelie      |\n",
            "+----------+------------+-------------+\n",
            "|       12 | Chinstrap  | Chinstrap   |\n",
            "+----------+------------+-------------+\n",
            "|       13 | Adelie     | Adelie      |\n",
            "+----------+------------+-------------+\n",
            "|       14 | Adelie     | Chinstrap   |\n",
            "+----------+------------+-------------+\n",
            "|       15 | Chinstrap  | Adelie      |\n",
            "+----------+------------+-------------+\n",
            "|       16 | Adelie     | Adelie      |\n",
            "+----------+------------+-------------+\n",
            "|       17 | Adelie     | Gentoo      |\n",
            "+----------+------------+-------------+\n",
            "|       18 | Adelie     | Adelie      |\n",
            "+----------+------------+-------------+\n",
            "|       19 | Gentoo     | Chinstrap   |\n",
            "+----------+------------+-------------+\n",
            "|       20 | Adelie     | Adelie      |\n",
            "+----------+------------+-------------+\n",
            "|       21 | Adelie     | Adelie      |\n",
            "+----------+------------+-------------+\n",
            "|       22 | Gentoo     | Chinstrap   |\n",
            "+----------+------------+-------------+\n",
            "|       23 | Adelie     | Gentoo      |\n",
            "+----------+------------+-------------+\n",
            "|       24 | Adelie     | Adelie      |\n",
            "+----------+------------+-------------+\n",
            "|       25 | Adelie     | Adelie      |\n",
            "+----------+------------+-------------+\n",
            "|       26 | Gentoo     | Gentoo      |\n",
            "+----------+------------+-------------+\n",
            "|       27 | Adelie     | Chinstrap   |\n",
            "+----------+------------+-------------+\n",
            "|       28 | Chinstrap  | Gentoo      |\n",
            "+----------+------------+-------------+\n",
            "|       29 | Adelie     | Chinstrap   |\n",
            "+----------+------------+-------------+\n",
            "|       30 | Adelie     | Gentoo      |\n",
            "+----------+------------+-------------+\n",
            "|       31 | Gentoo     | Chinstrap   |\n",
            "+----------+------------+-------------+\n",
            "|       32 | Adelie     | Adelie      |\n",
            "+----------+------------+-------------+\n",
            "|       33 | Chinstrap  | Adelie      |\n",
            "+----------+------------+-------------+\n",
            "|       34 | Gentoo     | Chinstrap   |\n",
            "+----------+------------+-------------+\n",
            "|       35 | Chinstrap  | Chinstrap   |\n",
            "+----------+------------+-------------+\n",
            "|       36 | Gentoo     | Gentoo      |\n",
            "+----------+------------+-------------+\n",
            "|       37 | Chinstrap  | Gentoo      |\n",
            "+----------+------------+-------------+\n",
            "|       38 | Gentoo     | Adelie      |\n",
            "+----------+------------+-------------+\n",
            "|       39 | Gentoo     | Adelie      |\n",
            "+----------+------------+-------------+\n",
            "|       40 | Gentoo     | Adelie      |\n",
            "+----------+------------+-------------+\n",
            "|       41 | Gentoo     | Adelie      |\n",
            "+----------+------------+-------------+\n",
            "|       42 | Adelie     | Gentoo      |\n",
            "+----------+------------+-------------+\n",
            "|       43 | Adelie     | Gentoo      |\n",
            "+----------+------------+-------------+\n",
            "|       44 | Gentoo     | Adelie      |\n",
            "+----------+------------+-------------+\n",
            "|       45 | Gentoo     | Adelie      |\n",
            "+----------+------------+-------------+\n",
            "|       46 | Gentoo     | Chinstrap   |\n",
            "+----------+------------+-------------+\n",
            "|       47 | Adelie     | Adelie      |\n",
            "+----------+------------+-------------+\n",
            "|       48 | Gentoo     | Adelie      |\n",
            "+----------+------------+-------------+\n",
            "|       49 | Gentoo     | Chinstrap   |\n",
            "+----------+------------+-------------+\n",
            "|       50 | Adelie     | Adelie      |\n",
            "+----------+------------+-------------+\n",
            "|       51 | Chinstrap  | Gentoo      |\n",
            "+----------+------------+-------------+\n",
            "|       52 | Chinstrap  | Gentoo      |\n",
            "+----------+------------+-------------+\n",
            "|       53 | Chinstrap  | Adelie      |\n",
            "+----------+------------+-------------+\n",
            "|       54 | Gentoo     | Adelie      |\n",
            "+----------+------------+-------------+\n",
            "|       55 | Gentoo     | Gentoo      |\n",
            "+----------+------------+-------------+\n",
            "|       56 | Gentoo     | Adelie      |\n",
            "+----------+------------+-------------+\n",
            "|       57 | Gentoo     | Adelie      |\n",
            "+----------+------------+-------------+\n",
            "|       58 | Gentoo     | Gentoo      |\n",
            "+----------+------------+-------------+\n",
            "|       59 | Adelie     | Gentoo      |\n",
            "+----------+------------+-------------+\n",
            "|       60 | Adelie     | Chinstrap   |\n",
            "+----------+------------+-------------+\n",
            "|       61 | Gentoo     | Chinstrap   |\n",
            "+----------+------------+-------------+\n",
            "|       62 | Chinstrap  | Chinstrap   |\n",
            "+----------+------------+-------------+\n",
            "|       63 | Adelie     | Adelie      |\n",
            "+----------+------------+-------------+\n",
            "|       64 | Chinstrap  | Adelie      |\n",
            "+----------+------------+-------------+\n",
            "|       65 | Chinstrap  | Chinstrap   |\n",
            "+----------+------------+-------------+\n",
            "|       66 | Adelie     | Adelie      |\n",
            "+----------+------------+-------------+\n",
            "|       67 | Adelie     | Gentoo      |\n",
            "+----------+------------+-------------+\n",
            "|       68 | Adelie     | Adelie      |\n",
            "+----------+------------+-------------+\n",
            "|       69 | Adelie     | Chinstrap   |\n",
            "+----------+------------+-------------+\n",
            "|       70 | Chinstrap  | Adelie      |\n",
            "+----------+------------+-------------+\n",
            "|       71 | Adelie     | Adelie      |\n",
            "+----------+------------+-------------+\n",
            "|       72 | Gentoo     | Gentoo      |\n",
            "+----------+------------+-------------+\n",
            "|       73 | Chinstrap  | Chinstrap   |\n",
            "+----------+------------+-------------+\n",
            "|       74 | Adelie     | Gentoo      |\n",
            "+----------+------------+-------------+\n",
            "|       75 | Gentoo     | Gentoo      |\n",
            "+----------+------------+-------------+\n",
            "|       76 | Gentoo     | Adelie      |\n",
            "+----------+------------+-------------+\n",
            "|       77 | Adelie     | Adelie      |\n",
            "+----------+------------+-------------+\n",
            "|       78 | Chinstrap  | Adelie      |\n",
            "+----------+------------+-------------+\n",
            "|       79 | Adelie     | Gentoo      |\n",
            "+----------+------------+-------------+\n",
            "|       80 | Chinstrap  | Adelie      |\n",
            "+----------+------------+-------------+\n",
            "|       81 | Adelie     | Adelie      |\n",
            "+----------+------------+-------------+\n",
            "|       82 | Gentoo     | Gentoo      |\n",
            "+----------+------------+-------------+\n",
            "|       83 | Adelie     | Adelie      |\n",
            "+----------+------------+-------------+\n",
            "|       84 | Gentoo     | Chinstrap   |\n",
            "+----------+------------+-------------+\n",
            "|       85 | Adelie     | Gentoo      |\n",
            "+----------+------------+-------------+\n",
            "|       86 | Adelie     | Adelie      |\n",
            "+----------+------------+-------------+\n",
            "|       87 | Adelie     | Chinstrap   |\n",
            "+----------+------------+-------------+\n",
            "|       88 | Gentoo     | Gentoo      |\n",
            "+----------+------------+-------------+\n",
            "|       89 | Adelie     | Gentoo      |\n",
            "+----------+------------+-------------+\n",
            "|       90 | Gentoo     | Gentoo      |\n",
            "+----------+------------+-------------+\n",
            "|       91 | Adelie     | Chinstrap   |\n",
            "+----------+------------+-------------+\n",
            "|       92 | Chinstrap  | Adelie      |\n",
            "+----------+------------+-------------+\n",
            "|       93 | Adelie     | Adelie      |\n",
            "+----------+------------+-------------+\n",
            "|       94 | Adelie     | Adelie      |\n",
            "+----------+------------+-------------+\n",
            "|       95 | Gentoo     | Adelie      |\n",
            "+----------+------------+-------------+\n",
            "|       96 | Gentoo     | Adelie      |\n",
            "+----------+------------+-------------+\n",
            "|       97 | Gentoo     | Gentoo      |\n",
            "+----------+------------+-------------+\n",
            "|       98 | Adelie     | Adelie      |\n",
            "+----------+------------+-------------+\n",
            "|       99 | Adelie     | Adelie      |\n",
            "+----------+------------+-------------+\n",
            "|      100 | Adelie     | Adelie      |\n",
            "+----------+------------+-------------+\n",
            "|      101 | Gentoo     | Chinstrap   |\n",
            "+----------+------------+-------------+\n",
            "|      102 | Gentoo     | Chinstrap   |\n",
            "+----------+------------+-------------+\n",
            "|      103 | Adelie     | Adelie      |\n",
            "+----------+------------+-------------+\n",
            "|      104 | Adelie     | Gentoo      |\n",
            "+----------+------------+-------------+\n",
            "|      105 | Chinstrap  | Adelie      |\n",
            "+----------+------------+-------------+\n",
            "|      106 | Adelie     | Gentoo      |\n",
            "+----------+------------+-------------+\n",
            "|      107 | Gentoo     | Gentoo      |\n",
            "+----------+------------+-------------+\n",
            "|      108 | Adelie     | Adelie      |\n",
            "+----------+------------+-------------+\n",
            "|      109 | Chinstrap  | Gentoo      |\n",
            "+----------+------------+-------------+\n"
          ]
        }
      ]
    },
    {
      "cell_type": "code",
      "source": [
        "x_test = tratamento(X_test)\n",
        "# Organizing the columns in the same order as the training data \n",
        "x_test = x_test.loc[:,x_train_tra.columns]\n",
        "x_test.head()"
      ],
      "metadata": {
        "colab": {
          "base_uri": "https://localhost:8080/",
          "height": 268
        },
        "id": "9vEeZBkH2wTd",
        "outputId": "7e3a9857-fa4a-4e37-edbc-86231a39cf8d"
      },
      "execution_count": 41,
      "outputs": [
        {
          "output_type": "execute_result",
          "data": {
            "text/plain": [
              "     island_Dream  island_Biscoe  island_Torgersen  bill_length_mm  \\\n",
              "30              1              0                 0            39.5   \n",
              "320             1              0                 0            50.9   \n",
              "79              0              0                 1            42.1   \n",
              "202             0              1                 0            46.6   \n",
              "63              0              1                 0            41.1   \n",
              "\n",
              "     bill_depth_mm  flipper_length_mm  body_mass_g  sex  year  \n",
              "30            16.7              178.0       3250.0    0  2007  \n",
              "320           17.9              196.0       3675.0    0  2009  \n",
              "79            19.1              195.0       4000.0    0  2008  \n",
              "202           14.2              210.0       4850.0    0  2008  \n",
              "63            18.2              192.0       4050.0    0  2008  "
            ],
            "text/html": [
              "\n",
              "  <div id=\"df-ba06b49b-6c8a-4e88-9921-5abedbb50ab8\">\n",
              "    <div class=\"colab-df-container\">\n",
              "      <div>\n",
              "<style scoped>\n",
              "    .dataframe tbody tr th:only-of-type {\n",
              "        vertical-align: middle;\n",
              "    }\n",
              "\n",
              "    .dataframe tbody tr th {\n",
              "        vertical-align: top;\n",
              "    }\n",
              "\n",
              "    .dataframe thead th {\n",
              "        text-align: right;\n",
              "    }\n",
              "</style>\n",
              "<table border=\"1\" class=\"dataframe\">\n",
              "  <thead>\n",
              "    <tr style=\"text-align: right;\">\n",
              "      <th></th>\n",
              "      <th>island_Dream</th>\n",
              "      <th>island_Biscoe</th>\n",
              "      <th>island_Torgersen</th>\n",
              "      <th>bill_length_mm</th>\n",
              "      <th>bill_depth_mm</th>\n",
              "      <th>flipper_length_mm</th>\n",
              "      <th>body_mass_g</th>\n",
              "      <th>sex</th>\n",
              "      <th>year</th>\n",
              "    </tr>\n",
              "  </thead>\n",
              "  <tbody>\n",
              "    <tr>\n",
              "      <th>30</th>\n",
              "      <td>1</td>\n",
              "      <td>0</td>\n",
              "      <td>0</td>\n",
              "      <td>39.5</td>\n",
              "      <td>16.7</td>\n",
              "      <td>178.0</td>\n",
              "      <td>3250.0</td>\n",
              "      <td>0</td>\n",
              "      <td>2007</td>\n",
              "    </tr>\n",
              "    <tr>\n",
              "      <th>320</th>\n",
              "      <td>1</td>\n",
              "      <td>0</td>\n",
              "      <td>0</td>\n",
              "      <td>50.9</td>\n",
              "      <td>17.9</td>\n",
              "      <td>196.0</td>\n",
              "      <td>3675.0</td>\n",
              "      <td>0</td>\n",
              "      <td>2009</td>\n",
              "    </tr>\n",
              "    <tr>\n",
              "      <th>79</th>\n",
              "      <td>0</td>\n",
              "      <td>0</td>\n",
              "      <td>1</td>\n",
              "      <td>42.1</td>\n",
              "      <td>19.1</td>\n",
              "      <td>195.0</td>\n",
              "      <td>4000.0</td>\n",
              "      <td>0</td>\n",
              "      <td>2008</td>\n",
              "    </tr>\n",
              "    <tr>\n",
              "      <th>202</th>\n",
              "      <td>0</td>\n",
              "      <td>1</td>\n",
              "      <td>0</td>\n",
              "      <td>46.6</td>\n",
              "      <td>14.2</td>\n",
              "      <td>210.0</td>\n",
              "      <td>4850.0</td>\n",
              "      <td>0</td>\n",
              "      <td>2008</td>\n",
              "    </tr>\n",
              "    <tr>\n",
              "      <th>63</th>\n",
              "      <td>0</td>\n",
              "      <td>1</td>\n",
              "      <td>0</td>\n",
              "      <td>41.1</td>\n",
              "      <td>18.2</td>\n",
              "      <td>192.0</td>\n",
              "      <td>4050.0</td>\n",
              "      <td>0</td>\n",
              "      <td>2008</td>\n",
              "    </tr>\n",
              "  </tbody>\n",
              "</table>\n",
              "</div>\n",
              "      <button class=\"colab-df-convert\" onclick=\"convertToInteractive('df-ba06b49b-6c8a-4e88-9921-5abedbb50ab8')\"\n",
              "              title=\"Convert this dataframe to an interactive table.\"\n",
              "              style=\"display:none;\">\n",
              "        \n",
              "  <svg xmlns=\"http://www.w3.org/2000/svg\" height=\"24px\"viewBox=\"0 0 24 24\"\n",
              "       width=\"24px\">\n",
              "    <path d=\"M0 0h24v24H0V0z\" fill=\"none\"/>\n",
              "    <path d=\"M18.56 5.44l.94 2.06.94-2.06 2.06-.94-2.06-.94-.94-2.06-.94 2.06-2.06.94zm-11 1L8.5 8.5l.94-2.06 2.06-.94-2.06-.94L8.5 2.5l-.94 2.06-2.06.94zm10 10l.94 2.06.94-2.06 2.06-.94-2.06-.94-.94-2.06-.94 2.06-2.06.94z\"/><path d=\"M17.41 7.96l-1.37-1.37c-.4-.4-.92-.59-1.43-.59-.52 0-1.04.2-1.43.59L10.3 9.45l-7.72 7.72c-.78.78-.78 2.05 0 2.83L4 21.41c.39.39.9.59 1.41.59.51 0 1.02-.2 1.41-.59l7.78-7.78 2.81-2.81c.8-.78.8-2.07 0-2.86zM5.41 20L4 18.59l7.72-7.72 1.47 1.35L5.41 20z\"/>\n",
              "  </svg>\n",
              "      </button>\n",
              "      \n",
              "  <style>\n",
              "    .colab-df-container {\n",
              "      display:flex;\n",
              "      flex-wrap:wrap;\n",
              "      gap: 12px;\n",
              "    }\n",
              "\n",
              "    .colab-df-convert {\n",
              "      background-color: #E8F0FE;\n",
              "      border: none;\n",
              "      border-radius: 50%;\n",
              "      cursor: pointer;\n",
              "      display: none;\n",
              "      fill: #1967D2;\n",
              "      height: 32px;\n",
              "      padding: 0 0 0 0;\n",
              "      width: 32px;\n",
              "    }\n",
              "\n",
              "    .colab-df-convert:hover {\n",
              "      background-color: #E2EBFA;\n",
              "      box-shadow: 0px 1px 2px rgba(60, 64, 67, 0.3), 0px 1px 3px 1px rgba(60, 64, 67, 0.15);\n",
              "      fill: #174EA6;\n",
              "    }\n",
              "\n",
              "    [theme=dark] .colab-df-convert {\n",
              "      background-color: #3B4455;\n",
              "      fill: #D2E3FC;\n",
              "    }\n",
              "\n",
              "    [theme=dark] .colab-df-convert:hover {\n",
              "      background-color: #434B5C;\n",
              "      box-shadow: 0px 1px 3px 1px rgba(0, 0, 0, 0.15);\n",
              "      filter: drop-shadow(0px 1px 2px rgba(0, 0, 0, 0.3));\n",
              "      fill: #FFFFFF;\n",
              "    }\n",
              "  </style>\n",
              "\n",
              "      <script>\n",
              "        const buttonEl =\n",
              "          document.querySelector('#df-ba06b49b-6c8a-4e88-9921-5abedbb50ab8 button.colab-df-convert');\n",
              "        buttonEl.style.display =\n",
              "          google.colab.kernel.accessAllowed ? 'block' : 'none';\n",
              "\n",
              "        async function convertToInteractive(key) {\n",
              "          const element = document.querySelector('#df-ba06b49b-6c8a-4e88-9921-5abedbb50ab8');\n",
              "          const dataTable =\n",
              "            await google.colab.kernel.invokeFunction('convertToInteractive',\n",
              "                                                     [key], {});\n",
              "          if (!dataTable) return;\n",
              "\n",
              "          const docLinkHtml = 'Like what you see? Visit the ' +\n",
              "            '<a target=\"_blank\" href=https://colab.research.google.com/notebooks/data_table.ipynb>data table notebook</a>'\n",
              "            + ' to learn more about interactive tables.';\n",
              "          element.innerHTML = '';\n",
              "          dataTable['output_type'] = 'display_data';\n",
              "          await google.colab.output.renderOutput(dataTable, element);\n",
              "          const docLink = document.createElement('div');\n",
              "          docLink.innerHTML = docLinkHtml;\n",
              "          element.appendChild(docLink);\n",
              "        }\n",
              "      </script>\n",
              "    </div>\n",
              "  </div>\n",
              "  "
            ]
          },
          "metadata": {},
          "execution_count": 41
        }
      ]
    },
    {
      "cell_type": "code",
      "source": [
        "y_pred = cls.predict(x_test)"
      ],
      "metadata": {
        "id": "SRWSip6c28h7"
      },
      "execution_count": 43,
      "outputs": []
    },
    {
      "cell_type": "code",
      "source": [
        "from sklearn import metrics \n",
        "color = 'white'\n",
        "matrix = metrics.plot_confusion_matrix(cls, x_test, y_test, cmap=plt.cm.Blues)\n",
        "matrix.ax_.set_title('Confusion Matrix', color=color)\n",
        "plt.xlabel('Predicted Label', color=color)\n",
        "plt.ylabel('True Label', color=color)\n",
        "plt.gcf().axes[0].tick_params(colors=color)\n",
        "plt.gcf().axes[1].tick_params(colors=color)\n",
        "plt.xticks(rotation=90)\n",
        "plt.show()"
      ],
      "metadata": {
        "colab": {
          "base_uri": "https://localhost:8080/",
          "height": 387
        },
        "id": "JHgj9sh83B9n",
        "outputId": "f953fad2-3129-43f3-87c4-35b5ed3a560d"
      },
      "execution_count": 46,
      "outputs": [
        {
          "output_type": "stream",
          "name": "stderr",
          "text": [
            "/usr/local/lib/python3.8/dist-packages/sklearn/utils/deprecation.py:87: FutureWarning: Function plot_confusion_matrix is deprecated; Function `plot_confusion_matrix` is deprecated in 1.0 and will be removed in 1.2. Use one of the class methods: ConfusionMatrixDisplay.from_predictions or ConfusionMatrixDisplay.from_estimator.\n",
            "  warnings.warn(msg, category=FutureWarning)\n"
          ]
        },
        {
          "output_type": "display_data",
          "data": {
            "text/plain": [
              "<Figure size 432x288 with 2 Axes>"
            ],
            "image/png": "[encoded data removed]"
          },
          "metadata": {
            "needs_background": "dark"
          }
        }
      ]
    },
    {
      "cell_type": "markdown",
      "metadata": {
        "papermill": {
          "duration": 0.028262,
          "end_time": "2020-12-06T07:07:25.965011",
          "exception": false,
          "start_time": "2020-12-06T07:07:25.936749",
          "status": "completed"
        },
        "tags": [],
        "id": "C07pWO6wCGt8"
      },
      "source": [
        "### Model Score\n",
        "Check the model score using test data"
      ]
    },
    {
      "cell_type": "code",
      "execution_count": 47,
      "metadata": {
        "execution": {
          "iopub.execute_input": "2020-12-06T07:07:26.031655Z",
          "iopub.status.busy": "2020-12-06T07:07:26.030884Z",
          "iopub.status.idle": "2020-12-06T07:07:26.035722Z",
          "shell.execute_reply": "2020-12-06T07:07:26.035089Z"
        },
        "papermill": {
          "duration": 0.041647,
          "end_time": "2020-12-06T07:07:26.035829",
          "exception": false,
          "start_time": "2020-12-06T07:07:25.994182",
          "status": "completed"
        },
        "tags": [],
        "id": "TSU5ICAXCGt8",
        "colab": {
          "base_uri": "https://localhost:8080/"
        },
        "outputId": "0c6473f7-118b-4191-dd3f-b363fa4a4248"
      },
      "outputs": [
        {
          "output_type": "stream",
          "name": "stdout",
          "text": [
            "Train data accuracy: 1.0\n",
            "Accuracy: 0.990909090909091\n",
            "              precision    recall  f1-score   support\n",
            "\n",
            "      Adelie       0.98      1.00      0.99        52\n",
            "   Chinstrap       1.00      0.96      0.98        25\n",
            "      Gentoo       1.00      1.00      1.00        33\n",
            "\n",
            "    accuracy                           0.99       110\n",
            "   macro avg       0.99      0.99      0.99       110\n",
            "weighted avg       0.99      0.99      0.99       110\n",
            "\n"
          ]
        }
      ],
      "source": [
        "#Check model accuracy using the score method.\n",
        "from sklearn.metrics import accuracy_score\n",
        "print(\"Train data accuracy:\",accuracy_score(y_true = y_train, y_pred=cls.predict(x_train_tra)))\n",
        "print(\"Accuracy:\",metrics.accuracy_score(y_test, y_pred))\n",
        "print(metrics.classification_report(y_test, y_pred))\n"
      ]
    },
    {
      "cell_type": "markdown",
      "metadata": {
        "papermill": {
          "duration": 0.029756,
          "end_time": "2020-12-06T07:07:26.095659",
          "exception": false,
          "start_time": "2020-12-06T07:07:26.065903",
          "status": "completed"
        },
        "tags": [],
        "id": "GWBG2vsSCGt8"
      },
      "source": [
        "## Visualize The Decision Tree\n",
        "We will use plot_tree() function from sklearn to plot the tree and then export the tree in Graphviz format using the export_graphviz exporter. Results will be saved in iris_decision_tree.pdf file"
      ]
    },
    {
      "cell_type": "code",
      "execution_count": 37,
      "metadata": {
        "execution": {
          "iopub.execute_input": "2020-12-06T07:07:26.160442Z",
          "iopub.status.busy": "2020-12-06T07:07:26.159819Z",
          "iopub.status.idle": "2020-12-06T07:07:26.639819Z",
          "shell.execute_reply": "2020-12-06T07:07:26.640399Z"
        },
        "papermill": {
          "duration": 0.515066,
          "end_time": "2020-12-06T07:07:26.640545",
          "exception": false,
          "start_time": "2020-12-06T07:07:26.125479",
          "status": "completed"
        },
        "tags": [],
        "id": "m0_nLaYoCGt9",
        "colab": {
          "base_uri": "https://localhost:8080/",
          "height": 823
        },
        "outputId": "4a95bf56-d7e1-4e4e-8059-02f9975770b6"
      },
      "outputs": [
        {
          "output_type": "execute_result",
          "data": {
            "text/plain": [
              "[Text(0.578125, 0.9166666666666666, 'X[5] <= 207.5\\nentropy = 1.513\\nsamples = 223\\nvalue = [94, 43, 86]'),\n",
              " Text(0.34375, 0.75, 'X[3] <= 43.15\\nentropy = 0.942\\nsamples = 133\\nvalue = [92, 40, 1]'),\n",
              " Text(0.125, 0.5833333333333334, 'X[3] <= 42.35\\nentropy = 0.09\\nsamples = 88\\nvalue = [87, 1, 0]'),\n",
              " Text(0.0625, 0.4166666666666667, 'entropy = 0.0\\nsamples = 84\\nvalue = [84, 0, 0]'),\n",
              " Text(0.1875, 0.4166666666666667, 'X[0] <= 0.5\\nentropy = 0.811\\nsamples = 4\\nvalue = [3, 1, 0]'),\n",
              " Text(0.125, 0.25, 'entropy = 0.0\\nsamples = 3\\nvalue = [3, 0, 0]'),\n",
              " Text(0.25, 0.25, 'entropy = 0.0\\nsamples = 1\\nvalue = [0, 1, 0]'),\n",
              " Text(0.5625, 0.5833333333333334, 'X[0] <= 0.5\\nentropy = 0.653\\nsamples = 45\\nvalue = [5, 39, 1]'),\n",
              " Text(0.4375, 0.4166666666666667, 'X[4] <= 16.65\\nentropy = 0.722\\nsamples = 5\\nvalue = [4, 0, 1]'),\n",
              " Text(0.375, 0.25, 'entropy = 0.0\\nsamples = 1\\nvalue = [0, 0, 1]'),\n",
              " Text(0.5, 0.25, 'entropy = 0.0\\nsamples = 4\\nvalue = [4, 0, 0]'),\n",
              " Text(0.6875, 0.4166666666666667, 'X[3] <= 44.65\\nentropy = 0.169\\nsamples = 40\\nvalue = [1, 39, 0]'),\n",
              " Text(0.625, 0.25, 'X[6] <= 3900.0\\nentropy = 0.918\\nsamples = 3\\nvalue = [1, 2, 0]'),\n",
              " Text(0.5625, 0.08333333333333333, 'entropy = 0.0\\nsamples = 2\\nvalue = [0, 2, 0]'),\n",
              " Text(0.6875, 0.08333333333333333, 'entropy = 0.0\\nsamples = 1\\nvalue = [1, 0, 0]'),\n",
              " Text(0.75, 0.25, 'entropy = 0.0\\nsamples = 37\\nvalue = [0, 37, 0]'),\n",
              " Text(0.8125, 0.75, 'X[4] <= 17.55\\nentropy = 0.363\\nsamples = 90\\nvalue = [2, 3, 85]'),\n",
              " Text(0.75, 0.5833333333333334, 'entropy = 0.0\\nsamples = 85\\nvalue = [0, 0, 85]'),\n",
              " Text(0.875, 0.5833333333333334, 'X[4] <= 18.95\\nentropy = 0.971\\nsamples = 5\\nvalue = [2, 3, 0]'),\n",
              " Text(0.8125, 0.4166666666666667, 'entropy = 0.0\\nsamples = 2\\nvalue = [2, 0, 0]'),\n",
              " Text(0.9375, 0.4166666666666667, 'entropy = 0.0\\nsamples = 3\\nvalue = [0, 3, 0]')]"
            ]
          },
          "metadata": {},
          "execution_count": 37
        },
        {
          "output_type": "display_data",
          "data": {
            "text/plain": [
              "<Figure size 864x576 with 1 Axes>"
            ],
            "image/png": "[encoded data removed]"
          },
          "metadata": {
            "needs_background": "light"
          }
        }
      ],
      "source": [
        "plt.figure(figsize=(12,8))\n",
        "tree.plot_tree(cls) "
      ]
    },
    {
      "cell_type": "code",
      "execution_count": 38,
      "metadata": {
        "execution": {
          "iopub.execute_input": "2020-12-06T07:07:26.715076Z",
          "iopub.status.busy": "2020-12-06T07:07:26.714208Z",
          "iopub.status.idle": "2020-12-06T07:07:27.307473Z",
          "shell.execute_reply": "2020-12-06T07:07:27.306901Z"
        },
        "papermill": {
          "duration": 0.634484,
          "end_time": "2020-12-06T07:07:27.307594",
          "exception": false,
          "start_time": "2020-12-06T07:07:26.673110",
          "status": "completed"
        },
        "tags": [],
        "id": "_b0YUaI7CGt9",
        "colab": {
          "base_uri": "https://localhost:8080/",
          "height": 37
        },
        "outputId": "5230b8dd-d4e4-4999-8eb2-f312e9f21409"
      },
      "outputs": [
        {
          "output_type": "execute_result",
          "data": {
            "text/plain": [
              "'_decision_tree.pdf'"
            ],
            "application/vnd.google.colaboratory.intrinsic+json": {
              "type": "string"
            }
          },
          "metadata": {},
          "execution_count": 38
        }
      ],
      "source": [
        "dot_data = tree.export_graphviz(cls, out_file=None) \n",
        "graph = graphviz.Source(dot_data) \n",
        "graph.render(\"_decision_tree\") "
      ]
    },
    {
      "cell_type": "code",
      "execution_count": 49,
      "metadata": {
        "execution": {
          "iopub.execute_input": "2020-12-06T07:07:27.384112Z",
          "iopub.status.busy": "2020-12-06T07:07:27.381858Z",
          "iopub.status.idle": "2020-12-06T07:07:27.444898Z",
          "shell.execute_reply": "2020-12-06T07:07:27.444086Z"
        },
        "papermill": {
          "duration": 0.104974,
          "end_time": "2020-12-06T07:07:27.445076",
          "exception": false,
          "start_time": "2020-12-06T07:07:27.340102",
          "status": "completed"
        },
        "tags": [],
        "id": "PROvgLiUCGt9",
        "colab": {
          "base_uri": "https://localhost:8080/",
          "height": 280
        },
        "outputId": "55832210-6fbd-41e3-9eaa-c467bda63ce7"
      },
      "outputs": [
        {
          "output_type": "display_data",
          "data": {
            "text/plain": [
              "<Figure size 432x288 with 1 Axes>"
            ],
            "image/png": "[encoded data removed]"
          },
          "metadata": {
            "needs_background": "light"
          }
        }
      ],
      "source": [
        "import seaborn as sns\n",
        "fig = sns.lineplot(data=df, x=\"species\", \n",
        "             y=\"bill_length_mm\", \n",
        "             hue='island') "
      ]
    },
    {
      "cell_type": "code",
      "source": [
        "sns.boxplot(data=df,y = 'bill_length_mm',x = 'island')"
      ],
      "metadata": {
        "colab": {
          "base_uri": "https://localhost:8080/",
          "height": 296
        },
        "id": "ZdJFHEUR3-Xv",
        "outputId": "59f83eff-6a41-4124-f4db-b56e59f4fecc"
      },
      "execution_count": 50,
      "outputs": [
        {
          "output_type": "execute_result",
          "data": {
            "text/plain": [
              "<matplotlib.axes._subplots.AxesSubplot at 0x7f24cfb7feb0>"
            ]
          },
          "metadata": {},
          "execution_count": 50
        },
        {
          "output_type": "display_data",
          "data": {
            "text/plain": [
              "<Figure size 432x288 with 1 Axes>"
            ],
            "image/png": "[encoded data removed]"
          },
          "metadata": {
            "needs_background": "light"
          }
        }
      ]
    },
    {
      "cell_type": "code",
      "source": [
        "sns.scatterplot(data=df,x='island',y='body_mass_g',hue='species')"
      ],
      "metadata": {
        "colab": {
          "base_uri": "https://localhost:8080/",
          "height": 296
        },
        "id": "_Szed21V4Ag8",
        "outputId": "f3c5a1bc-a110-476f-8fed-a9a101454bb4"
      },
      "execution_count": 53,
      "outputs": [
        {
          "output_type": "execute_result",
          "data": {
            "text/plain": [
              "<matplotlib.axes._subplots.AxesSubplot at 0x7f24cf98b700>"
            ]
          },
          "metadata": {},
          "execution_count": 53
        },
        {
          "output_type": "display_data",
          "data": {
            "text/plain": [
              "<Figure size 432x288 with 1 Axes>"
            ],
            "image/png": "[encoded data removed]"
          },
          "metadata": {
            "needs_background": "light"
          }
        }
      ]
    },
    {
      "cell_type": "code",
      "source": [
        "sns.boxplot(df['bill_length_mm'],color = 'red')"
      ],
      "metadata": {
        "colab": {
          "base_uri": "https://localhost:8080/",
          "height": 351
        },
        "id": "e63KUq2l4qqI",
        "outputId": "d86c601e-d260-4edd-f42b-53e15e1d91dd"
      },
      "execution_count": 57,
      "outputs": [
        {
          "output_type": "stream",
          "name": "stderr",
          "text": [
            "/usr/local/lib/python3.8/dist-packages/seaborn/_decorators.py:36: FutureWarning: Pass the following variable as a keyword arg: x. From version 0.12, the only valid positional argument will be `data`, and passing other arguments without an explicit keyword will result in an error or misinterpretation.\n",
            "  warnings.warn(\n"
          ]
        },
        {
          "output_type": "execute_result",
          "data": {
            "text/plain": [
              "<matplotlib.axes._subplots.AxesSubplot at 0x7f24cf97b910>"
            ]
          },
          "metadata": {},
          "execution_count": 57
        },
        {
          "output_type": "display_data",
          "data": {
            "text/plain": [
              "<Figure size 432x288 with 1 Axes>"
            ],
            "image/png": "[encoded data removed]"
          },
          "metadata": {
            "needs_background": "light"
          }
        }
      ]
    }
  ]
}